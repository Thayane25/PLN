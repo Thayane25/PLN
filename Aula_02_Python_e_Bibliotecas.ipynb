{
  "nbformat": 4,
  "nbformat_minor": 0,
  "metadata": {
    "colab": {
      "provenance": [],
      "collapsed_sections": [
        "b-8USbUM6QuX",
        "bmPrCIdX8zmU",
        "yvR1TOWU9DPa",
        "AEkNlP3L9MAi",
        "UaJg1BD59XXf",
        "SNSJHqAh9khC",
        "nVWSHjHw92o8",
        "0M0okqfx-MY1",
        "coleuAUmGqhn",
        "dBJZKAaup2bZ",
        "YlpL6lWSp2Qz",
        "V7RNajXIrsHR",
        "b5wuA_8ZvVXi",
        "IMWdPXGJyYYp",
        "I44RQ1MG1BqZ",
        "FiKZbpvw-azv"
      ],
      "include_colab_link": true
    },
    "kernelspec": {
      "name": "python3",
      "display_name": "Python 3"
    },
    "language_info": {
      "name": "python"
    }
  },
  "cells": [
    {
      "cell_type": "markdown",
      "metadata": {
        "id": "view-in-github",
        "colab_type": "text"
      },
      "source": [
        "<a href=\"https://colab.research.google.com/github/Thayane25/PLN/blob/main/Aula_02_Python_e_Bibliotecas.ipynb\" target=\"_parent\"><img src=\"https://colab.research.google.com/assets/colab-badge.svg\" alt=\"Open In Colab\"/></a>"
      ]
    },
    {
      "cell_type": "markdown",
      "source": [
        "# Conceitos Fundamentais da Linguagem Python\n",
        "\n",
        "\n",
        "###O objetivo desse notebook é apresentar os fundamentos da programação em Python, abordando desde a sintaxe básica e comentários até conceitos essenciais como declaração e atribuição de variáveis, entrada e saída de dados, listas, operadores e estruturas de repetição. O conteúdo é voltado para iniciantes e tem foco em demonstrar, por meio de exemplos práticos, como construir programas simples e funcionais utilizando os principais recursos da linguagem."
      ],
      "metadata": {
        "id": "b-8USbUM6QuX"
      }
    },
    {
      "cell_type": "markdown",
      "source": [
        "## Exemplo 1 - Sintaxe Básica e Estrutura do Código em Python\n"
      ],
      "metadata": {
        "id": "bmPrCIdX8zmU"
      }
    },
    {
      "cell_type": "code",
      "execution_count": null,
      "metadata": {
        "colab": {
          "base_uri": "https://localhost:8080/"
        },
        "id": "AgOMif4C6H6F",
        "outputId": "3f6fda12-c512-44fb-f308-a064764e153b"
      },
      "outputs": [
        {
          "output_type": "stream",
          "name": "stdout",
          "text": [
            "I could have code like this.\n",
            "This will work\n"
          ]
        }
      ],
      "source": [
        "# Um comentário, assim você pode ler seu programa mais tarde.\n",
        "# Qualquer coisa depois de # é ignorada pelo Python.\n",
        "\n",
        "print(\"I could have code like this.\") # e o comentário depois ignorado\n",
        "\n",
        "# Você também pode usar um comentário para desabilitar um código:\n",
        "#print(\"This won't run.\")\n",
        "\n",
        "print('This will work')"
      ]
    },
    {
      "cell_type": "markdown",
      "source": [
        "## Exemplo 2 - Atribuição de variáveis."
      ],
      "metadata": {
        "id": "yvR1TOWU9DPa"
      }
    },
    {
      "cell_type": "code",
      "source": [
        "cars = 100\n",
        "spaceInACar = 4.0\n",
        "drivers = 30\n",
        "passengers = 90\n",
        "carsNotDriven = cars - drivers\n",
        "carsDriven = drivers\n",
        "carpoolCapacity = carsDriven * spaceInACar\n",
        "averagePassengersPerCar = passengers / carsDriven\n",
        "\n",
        "print(\"There are\", cars, \"cars available.\")\n",
        "print(\"There are only\", drivers, \"drivers available.\")\n",
        "print(\"There will be\", carsNotDriven, \"empty cars today.\")\n",
        "print(\"We can transport\", carpoolCapacity, \"people today.\")\n",
        "print(\"We have\", passengers, \"to carpool today.\")\n",
        "print(\"We need to put about\", averagePassengersPerCar, \"in each car.\")\n",
        "print(10/5)"
      ],
      "metadata": {
        "colab": {
          "base_uri": "https://localhost:8080/"
        },
        "id": "f-ygJzdK_tOF",
        "outputId": "af5ed103-24e6-41b7-8f2d-ad5168802df4"
      },
      "execution_count": null,
      "outputs": [
        {
          "output_type": "stream",
          "name": "stdout",
          "text": [
            "There are 100 cars available.\n",
            "There are only 30 drivers available.\n",
            "There will be 70 empty cars today.\n",
            "We can transport 120.0 people today.\n",
            "We have 90 to carpool today.\n",
            "We need to put about 3.0 in each car.\n",
            "2.0\n"
          ]
        }
      ]
    },
    {
      "cell_type": "markdown",
      "source": [
        "## Exemplo 3 - Entrada e Saída de Dados\n"
      ],
      "metadata": {
        "id": "AEkNlP3L9MAi"
      }
    },
    {
      "cell_type": "code",
      "source": [
        "print(\"How old are you?\", end=' ')\n",
        "age = input()\n",
        "\n",
        "print(\"How tall are you (cm)?\", end= ' ')\n",
        "height = input()\n",
        "\n",
        "print(\"How much do you weigh?\", end= ' ')\n",
        "weigh = input()\n",
        "\n",
        "print(f\"So, you're {age} old, {height} tall and {weigh} heavy.\")"
      ],
      "metadata": {
        "colab": {
          "base_uri": "https://localhost:8080/"
        },
        "id": "WIT1s1lBAvWb",
        "outputId": "b74751c3-a4f2-41b8-99a5-91312698bf59"
      },
      "execution_count": null,
      "outputs": [
        {
          "output_type": "stream",
          "name": "stdout",
          "text": [
            "How old are you? "
          ]
        }
      ]
    },
    {
      "cell_type": "markdown",
      "source": [
        "## Exemplo 4 - Operadores\n",
        "* Operadores aritméticos: +, -, *, /, //, %, **.\n",
        "* Operadores relacionais: ==, !=, >, <, >=, <=.\n",
        "* Operadores lógicos: and, or, not."
      ],
      "metadata": {
        "id": "UaJg1BD59XXf"
      }
    },
    {
      "cell_type": "code",
      "source": [
        "print(\"I will now count my chickens:\")\n",
        "print(\"Hens\", 25 + 30 / 6)\n",
        "print(\"Roosters\", 100.0 - 25 * 3 % 4)\n",
        "\n",
        "print(\"Now I will count the eggs:\")\n",
        "print(3 + 2 + 1 - 5 + 4 % 2 - 1 / 4 + 6)\n",
        "\n",
        "print(\"Is it true that 3 + 2 < 5 - 7?\")\n",
        "print(3 + 2 < 5 - 7)\n",
        "\n",
        "print(\"Whats is 3 + 2?\", 3 + 2)\n",
        "print(\"Whats is 5 - 7?\", 5 - 7)\n",
        "print(\"Oh, that's why it's False.\")\n",
        "\n",
        "print(\"How About some more.\")\n",
        "\n",
        "print(\"Is it greater?\", 5 > -2)\n",
        "print(\"Is it greater or equal?\", 5 >= -2)\n",
        "print(\"Is it less or equal?\", 5 <= -2)"
      ],
      "metadata": {
        "id": "tsO_Jb5PBorW"
      },
      "execution_count": null,
      "outputs": []
    },
    {
      "cell_type": "markdown",
      "source": [
        "## Exemplo 5 -Estruturas Condicionais\n",
        "* if ( condição ):\n",
        "* elif ( condição ):\n",
        "* else:"
      ],
      "metadata": {
        "id": "SNSJHqAh9khC"
      }
    },
    {
      "cell_type": "code",
      "source": [
        "people = 30\n",
        "cars = 40\n",
        "trucks = 15\n",
        "\n",
        "if cars > people:\n",
        "    print(\"We should take the cars.\")\n",
        "elif cars < people:\n",
        "    print(\"We should not take the cars.\")\n",
        "else:\n",
        "    print(\"We can't decide.\")\n",
        "\n",
        "if trucks > cars:\n",
        "    print(\"That's too many trucks.\")\n",
        "elif trucks < cars:\n",
        "    print(\"Maybe we could take the trucks.\")\n",
        "else:\n",
        "    print(\"We still can't decide.\")\n",
        "\n",
        "if people > trucks:\n",
        "    print(\"Alright, let's just take the trucks.\")\n",
        "else:\n",
        "    print(\"Fine, let's stay home then.\")"
      ],
      "metadata": {
        "id": "_ltwwBpRB34h"
      },
      "execution_count": null,
      "outputs": []
    },
    {
      "cell_type": "markdown",
      "source": [
        "## Exemplo 6 - Laços de Repetição\n",
        "* for [i] in [xxxx]:\n",
        "* while (condição):"
      ],
      "metadata": {
        "id": "nVWSHjHw92o8"
      }
    },
    {
      "cell_type": "code",
      "source": [
        "i = 0\n",
        "numbers = []\n",
        "\n",
        "while i < 6:\n",
        "    print(f\"At the top i is {i}\")\n",
        "    numbers.append(i)\n",
        "\n",
        "    i = i + 1\n",
        "    print(\"Numbers now: \", numbers)\n",
        "    print(f\"At the bottom i is {i}\")\n",
        "\n",
        "\n",
        "print(\"The numbers: \")\n",
        "\n",
        "for num in range(1,11,2):\n",
        "    print(num)"
      ],
      "metadata": {
        "id": "lIOG6cU_Cfnj"
      },
      "execution_count": null,
      "outputs": []
    },
    {
      "cell_type": "markdown",
      "source": [
        "## Exemplo 7 - Listas e Strings\n",
        "* Declaração e manipulação de listas.\n",
        "* Operações básicas com strings.\n",
        "* Fatiamento e iteração."
      ],
      "metadata": {
        "id": "0M0okqfx-MY1"
      }
    },
    {
      "cell_type": "code",
      "source": [
        "the_count = [1, 2, 3, 4, 5]\n",
        "fruits = ['apples', 'oranges', 'pears', 'apricots']\n",
        "change = [1, 'pennies', 2, 'dimes', 3, 'quarters']\n",
        "lista = []\n",
        "\n",
        "# eese primeiro tipo de loop for percorre uma lista\n",
        "for number in the_count:\n",
        "    print(f\"This is count {number}\")\n",
        "\n",
        "# mesma coisa que o código acima\n",
        "for fruit in fruits:\n",
        "    print(f\"A fruit of type: {fruit}\")\n",
        "\n",
        "# também podemos percorrer listas mistas\n",
        "# perceba que temos que usar um {} uma vez que não sabemos o que há nela\n",
        "for i in change:\n",
        "    print(f\"I got {i}\")\n",
        "\n",
        "# também podemos construir listas, primeiro comece com uma vazia\n",
        "elements = []\n",
        "\n",
        "# então use a função range para fazer a contagem de 0 a 5\n",
        "for i in range(0, 6):\n",
        "    print(f\"Adding {i} to the list.\")\n",
        "    #append é uma função que as listas entendem\n",
        "    elements.append(i)\n",
        "\n",
        "# agora vamos imprimi-la também\n",
        "for i in elements:\n",
        "    print(f\"Element was: {i}\")"
      ],
      "metadata": {
        "id": "HtHGT5qpDIWj"
      },
      "execution_count": null,
      "outputs": []
    },
    {
      "cell_type": "markdown",
      "source": [
        "# **Prática Orientada**: Proposta de exercícios curtos para fixação dos conceitos\n"
      ],
      "metadata": {
        "id": "coleuAUmGqhn"
      }
    },
    {
      "cell_type": "markdown",
      "source": [
        "## Exercício 1: Elaborar um programa que calcule e apresente o valor do volume de uma caixa retangular, utilizando a fórmula VOLUME = COMPRIMENTO * LARGURA * ALTURA\n"
      ],
      "metadata": {
        "id": "JbPGwlCM0hW6"
      }
    },
    {
      "cell_type": "code",
      "source": [
        "COMPRIMENTO = float(input(\"Informe o comprimento da caixa (cm): \"))\n",
        "LARGURA = float(input(\"Informe a largura da caixa (cm): \"))\n",
        "ALTURA = float(input(\"Informe a altura da caixa (cm): \"))\n",
        "\n",
        "VOLUME = COMPRIMENTO * LARGURA * ALTURA\n",
        "\n",
        "print(f\"Uma caixa com {COMPRIMENTO} cm de comprimento, {LARGURA} cm de largura e {ALTURA} cm de altura possui {VOLUME} cm^3 de volume.\" )"
      ],
      "metadata": {
        "id": "N9Uh2jkN1OGX"
      },
      "execution_count": null,
      "outputs": []
    },
    {
      "cell_type": "markdown",
      "source": [
        "## Exercício 2: Contar o número de palavras em um texto\n"
      ],
      "metadata": {
        "id": "NTXlvVjNG18i"
      }
    },
    {
      "cell_type": "code",
      "source": [
        "texto = input(\"Digite um texto: \")\n",
        "print(texto)\n",
        "palavras = texto.split()\n",
        "  # .split - metodo que converte um texto em uma lista,\n",
        "    # onde cada trecho separado por espaco vira uma elemento da lista\n",
        "print(len(texto))\n",
        "\n",
        "print(palavras)\n",
        "print(type(palavras))\n",
        "\n",
        "print(f\"O texto possui {len(palavras)} palavras.\")"
      ],
      "metadata": {
        "id": "EnLnJ7g3HI6W"
      },
      "execution_count": null,
      "outputs": []
    },
    {
      "cell_type": "markdown",
      "source": [
        "* Utilizar o método split() para separar as palavras.\n",
        "* Utilizar a função len() para contar os elementos da lista."
      ],
      "metadata": {
        "id": "bqOG2Tv3HSQU"
      }
    },
    {
      "cell_type": "markdown",
      "source": [
        "## Exercício 3: Buscar e substituir palavras em um texto"
      ],
      "metadata": {
        "id": "GPCbTcnwG1re"
      }
    },
    {
      "cell_type": "code",
      "source": [
        "texto = input(\"Digite um texto: \")\n",
        "\n",
        "palavra_antiga = input(\"Palavra a ser substituída: \")\n",
        "\n",
        "palavra_nova = input(\"Nova palavra: \")\n",
        "texto_alterado = texto.replace(palavra_antiga, palavra_nova)\n",
        "print(f\"Texto alterado: {texto_alterado}\")"
      ],
      "metadata": {
        "id": "XlvWO2gsHJhW"
      },
      "execution_count": null,
      "outputs": []
    },
    {
      "cell_type": "markdown",
      "source": [
        "* Utilizar o método replace() para fazer a substituição."
      ],
      "metadata": {
        "id": "5VdlGLN_HZFv"
      }
    },
    {
      "cell_type": "markdown",
      "source": [
        "## Exercício 4: Separar frases e iterar sobre elas"
      ],
      "metadata": {
        "id": "94t3cPf2G1O0"
      }
    },
    {
      "cell_type": "code",
      "source": [
        "paragrafo = input(\"Digite um parágrafo: \")\n",
        "frases = paragrafo.split('.')\n",
        "for i, frase in enumerate(frases):\n",
        "    if frase.strip():\n",
        "      print(f\"Frase {i + 1}: {frase.strip()}\")"
      ],
      "metadata": {
        "id": "V3dRyWU2G0T-"
      },
      "execution_count": null,
      "outputs": []
    },
    {
      "cell_type": "markdown",
      "source": [
        "* Utilizar split('.') e o laço for para iterar sobre as frases."
      ],
      "metadata": {
        "id": "zPObYCk8Hdx0"
      }
    },
    {
      "cell_type": "markdown",
      "source": [
        "## Exercício 5: Ler três valores inteiros representados pelas variáveis A, B e C e apresentar os valores lidos dispostos em ordem crescente.\n"
      ],
      "metadata": {
        "id": "7NND6BvC1I0K"
      }
    },
    {
      "cell_type": "code",
      "source": [
        "A = int(input(\"informe um valor inteiro qualquer: \"))\n",
        "B = int(input(\"informe outro valor inteiro qualquer: \"))\n",
        "C = int(input(\"informe mais um outro valor inteiro qualquer: \"))\n",
        "\n",
        "if (A < B):\n",
        "    if (B < C):\n",
        "        print(\"\\n\") # A , B , C\n",
        "    else:\n",
        "        if (C < A): # C , A , B\n",
        "            x = B\n",
        "            B = A\n",
        "            A = C\n",
        "            C = x\n",
        "        else:  # A , C , B\n",
        "            x = B\n",
        "            B = C\n",
        "            C = x\n",
        "else:\n",
        "    if (A < C): # B , A , C\n",
        "        x = B\n",
        "        B = A\n",
        "        A = x\n",
        "    else:\n",
        "        if (B < C): # B , C , A\n",
        "            x = A\n",
        "            A = B\n",
        "            B = C\n",
        "            C = x\n",
        "        else: # C , B , A\n",
        "            x = A\n",
        "            A = C\n",
        "            C = x\n",
        "print(\"A ordem de valores é {}, {} e {}\".format(A, B, C))"
      ],
      "metadata": {
        "id": "klTYXp7E1IVF"
      },
      "execution_count": null,
      "outputs": []
    },
    {
      "cell_type": "markdown",
      "source": [
        "## Exercício 6: Fazer a leitura de quatro valores numéricos inteiros representados pelas variáveis A, B, C e D. Apresentar apenas os valores que sejam divisíveis por 2 e 3."
      ],
      "metadata": {
        "id": "sSnD0Yrk1Qtm"
      }
    },
    {
      "cell_type": "code",
      "source": [
        "A = int(input(\"informe um valor inteiro qualquer: \"))\n",
        "B = int(input(\"informe outro valor inteiro qualquer: \"))\n",
        "C = int(input(\"informe mais um outro valor inteiro qualquer: \"))\n",
        "D = int(input(\"informe mais um outro outro valor inteiro qualquer: \"))\n",
        "\n",
        "\n",
        "if(A % 6):\n",
        "  print(\"O primeiro valor é divisível por 2 e por 3.\")\n",
        "if(B % 6):\n",
        "  print(\"O segundo valor é divisível por 2 e por 3.\")\n",
        "if(C % 6):\n",
        "  print(\"Você esta copiando corretamente?\")\n",
        "if(D % 6):\n",
        "  print(\"Será que da para resover de outra maneira?\")"
      ],
      "metadata": {
        "id": "w_Y6meMY1QNr"
      },
      "execution_count": null,
      "outputs": []
    },
    {
      "cell_type": "markdown",
      "source": [
        "## Exercício 7:  Construir um programa que apresente todos os valores numéricos divisíveis por 4 e menores que 200\n"
      ],
      "metadata": {
        "id": "h750gpa31ccJ"
      }
    },
    {
      "cell_type": "code",
      "source": [
        "i = 1\n",
        "while i < 200:\n",
        "    if (i % 4 == 0):\n",
        "        print(i , end=', ')\n",
        "    i += 1\n",
        "else:\n",
        "    print(\"são todos os n. divisíveis por 4 e menores que 200.\")"
      ],
      "metadata": {
        "id": "XgQOKM_L1cQX"
      },
      "execution_count": null,
      "outputs": []
    },
    {
      "cell_type": "markdown",
      "source": [
        "# -->>>> **Estes foram os exemplos que foram passados em sala de aula**\n"
      ],
      "metadata": {
        "id": "dBJZKAaup2bZ"
      }
    },
    {
      "cell_type": "markdown",
      "source": [
        "## Exemplo 01 - Sintaxe Básica\n"
      ],
      "metadata": {
        "id": "YlpL6lWSp2Qz"
      }
    },
    {
      "cell_type": "code",
      "execution_count": null,
      "metadata": {
        "id": "tYzJ-qVzok2l"
      },
      "outputs": [],
      "source": [
        "# comentario pode ser feito de duas maneiras.\n",
        "print(\"eu posso ler esta parte.\")\n",
        "  # explicando o codigo desconhecido\n",
        "\n",
        "# a maneira mais simples é usar # para comentar uma linha\n",
        "print('Esta parte eu posso ler.')\n",
        "\n",
        "''' e a mais complexa é usar 3 aspas (simples ou dupla)\n",
        "para comentar várias linhas\n",
        "linhas\n",
        "linhas\n",
        "linhas\n",
        "'''"
      ]
    },
    {
      "cell_type": "markdown",
      "source": [
        "## Exemplo 02 - Atribuição de variáveis"
      ],
      "metadata": {
        "id": "V7RNajXIrsHR"
      }
    },
    {
      "cell_type": "code",
      "source": [
        "# tudo é tratado como objeto (armazenar duas coisas - o que é e o valor)\n",
        "carros = 100 # inteiro\n",
        "    # objeto = numero inteiro, valor = 100 - rotulo --> nome da variavel [cars]\n",
        "espacoNoCarro = 4.0 # real ou ponto flutuante\n",
        "motoristas = 30\n",
        "passageiros = 90\n",
        "carrosSemMotoristas = carros - motoristas\n",
        "carrosComMotoristas = motoristas\n",
        "capacidadeDePassageiros = carrosComMotoristas * espacoNoCarro\n",
        "mediaPassageirosPorCarro = passageiros / carrosComMotoristas\n",
        "\n",
        "print(\"Existem\", carros, \"disponíveis.\")\n",
        "print(f\"Existem apenas {motoristas} disponiveis.\")\n",
        "print('Nos podemos transportar {} pessoas hoje'.format(capacidadeDePassageiros))\n",
        "print(100/5)\n",
        "print(\"{} + {} + {} + {}\".format(mediaPassageirosPorCarro,capacidadeDePassageiros,carrosComMotoristas,espacoNoCarro))\n",
        "print(f\"{mediaPassageirosPorCarro} * {capacidadeDePassageiros} * {carrosComMotoristas} * {espacoNoCarro}\")\n",
        "   # a operações moldam o tipo de dado que vai ser apresentado\n",
        "   # int / int = real\n"
      ],
      "metadata": {
        "collapsed": true,
        "id": "hkD7AmEsrv4g"
      },
      "execution_count": null,
      "outputs": []
    },
    {
      "cell_type": "markdown",
      "source": [
        "## Exemplo 03 - Entradas e Saidas"
      ],
      "metadata": {
        "id": "b5wuA_8ZvVXi"
      }
    },
    {
      "cell_type": "code",
      "source": [
        "print(\"Quantos anos você tem?\")\n",
        "idade = input()\n",
        "print(f\"O Rodolfo tem {idade} anos.\")\n",
        "\n",
        "altura = input(\"Qual é a sua altura: \")\n",
        "\n",
        "print(f\"A altura do professor é {altura} cm\")\n",
        "print(\"O tipo de dados da idade é \", type(idade))\n",
        "print(\"O tipo de dados da altura é \", type(altura))\n",
        "print(idade + altura)\n",
        "\n",
        "ValorIdade = int(idade)\n",
        "print(\"O tipo de dados da ValorIdade é \", type(ValorIdade))\n",
        "ValorAltura = int(altura)\n",
        "print(\"O tipo de dados da ValorIdade é \", type(ValorAltura))\n",
        "print(ValorIdade + ValorAltura)\n",
        "\n",
        "peso = int(input(\"Qual é o seu peso: \"))\n",
        "print(\"\\nO tipo de dados da peso é \", type(peso))"
      ],
      "metadata": {
        "collapsed": true,
        "id": "z9l-icdFvVwY"
      },
      "execution_count": null,
      "outputs": []
    },
    {
      "cell_type": "markdown",
      "source": [
        "## Exemplo 04 - Operadores"
      ],
      "metadata": {
        "id": "IMWdPXGJyYYp"
      }
    },
    {
      "cell_type": "code",
      "source": [
        "print(\"Contando aves do meu galinheiro.\")\n",
        "print(\"Franguinhos\", 25 + 30 / 6)\n",
        "print(\"Galos\", 100 - 25 * 3 % 4)\n",
        "\n",
        "print('\\nAgora vou contar o ovos.')\n",
        "print(3 + 2 + 1 - 5 + 4 % 2 - 1 / 4 + 6 )\n",
        "\n",
        "print(\"\\nEste resultado é verdadeiro: 3 + 2 < 5 - 7?\")\n",
        "print(3 + 2 < 5 - 7)\n",
        "print(\"Quanto é 3 + 2?\", 3 + 2)\n",
        "print(\"Quanto é 5 - 7?\", 5 - 7)\n",
        "print(\"O que é maior? \", 5 > - 2)\n"
      ],
      "metadata": {
        "id": "CRUhxk6tydVg"
      },
      "execution_count": null,
      "outputs": []
    },
    {
      "cell_type": "markdown",
      "source": [
        "## Exemplo 05 - estruturas condicionais\n",
        "if ():\n",
        "  instrução\n",
        "  instrução\n",
        "  instrução\n",
        "instrução fora do condicional\n"
      ],
      "metadata": {
        "id": "I44RQ1MG1BqZ"
      }
    },
    {
      "cell_type": "code",
      "source": [
        "pessoas = 30\n",
        "carros = 40\n",
        "caminhoes = 15\n",
        "motos = 100\n",
        "\n",
        "\n",
        "# desvio condicional simples\n",
        "if (carros > pessoas):\n",
        "  print(\"Nos podemos pegar um carro.\")\n",
        "\n",
        "# desvio condicional composto\n",
        "if (carros < pessoas):\n",
        "  print(\"\\nlinha  da condição 2  verdadeira 1\")\n",
        "  print(\"\\nlinha  da condição 2 verdadeira 2\")\n",
        "else:\n",
        "  print(\"\\nlinha  da condição 2 falsa\")\n",
        "\n",
        "if(carros < pessoas):\n",
        "  print(\"\\nlinha  da condição 1\")\n",
        "\n",
        "elif (carros < caminhoes):\n",
        "  print(\"\\nlinha  da condição 2\")\n",
        "\n",
        "elif (caminhoes < motos):\n",
        "  print(\"\\nlinha  da condição 3\")\n",
        "\n",
        "else:\n",
        "  print(\"\\nlinha  da condição 4\")"
      ],
      "metadata": {
        "id": "oDZLqc_Y1ki4"
      },
      "execution_count": null,
      "outputs": []
    },
    {
      "cell_type": "markdown",
      "source": [
        "## Exemplo 06 - Laços de repetição\n",
        "while(condição):\n",
        "  instruções a serem repetidas\n",
        "\n",
        "for Contador in range(contagem):\n",
        "  instruções a serem repetidas"
      ],
      "metadata": {
        "id": "FiKZbpvw-azv"
      }
    },
    {
      "cell_type": "code",
      "source": [
        "i = 0\n",
        "\n",
        "# variavel simples - armazena apenas uma valor\n",
        "# variavel composta - armazenar vários valores\n",
        "  # listas - mutáveis: [a,b,c,45,a,b, [ad]]\n",
        "  # tuplas - imutáveis: (a,b,c,45,asd,asd, (asdcfsd))\n",
        "  # conjuntos - mutável mas sem repetição {valor1,valor2,valor3,...}\n",
        "\n",
        "numero = [] # inicializar de uma variavel composta do tipo lista\n",
        "\n",
        "while (i < 6):\n",
        "  print(f\"Estou indo de 0 até {i}\")\n",
        "  numero.append(i)\n",
        "  i = i + 1\n",
        "  print(f'o valor da lista é {numero}')\n",
        "  # aqui estou dentro da repetição\n",
        "\n",
        "#aqui estou fora da repetição\n",
        "\n",
        "print(f'\\n\\n Vamos experimentar o FOR.\\n\\n')\n",
        "\n",
        "for i in range(0,6):\n",
        "  print(f\"Estou indo de 0 até {i}\")\n",
        "  numero.append(i)\n",
        "  print(f'o valor da lista é {numero}')\n",
        "  # aqui estou dentro da repetição\n",
        "\n",
        "\n",
        "print(f'\\n\\n Vamos experimentar o FOR com strings.\\n\\n')\n",
        "texto = \"Aula de sexta feira\"\n",
        "\n",
        "for i in texto:\n",
        "  print(f\"O contador esta com a letra {i}.\")"
      ],
      "metadata": {
        "id": "13xjPqgN-fQu"
      },
      "execution_count": null,
      "outputs": []
    }
  ]
}