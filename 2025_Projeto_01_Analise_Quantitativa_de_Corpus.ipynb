{
  "nbformat": 4,
  "nbformat_minor": 0,
  "metadata": {
    "colab": {
      "provenance": [],
      "include_colab_link": true
    },
    "kernelspec": {
      "name": "python3",
      "display_name": "Python 3"
    },
    "language_info": {
      "name": "python"
    }
  },
  "cells": [
    {
      "cell_type": "markdown",
      "metadata": {
        "id": "view-in-github",
        "colab_type": "text"
      },
      "source": [
        "<a href=\"https://colab.research.google.com/github/Thayane25/PLN/blob/main/2025_Projeto_01_Analise_Quantitativa_de_Corpus.ipynb\" target=\"_parent\"><img src=\"https://colab.research.google.com/assets/colab-badge.svg\" alt=\"Open In Colab\"/></a>"
      ]
    },
    {
      "cell_type": "markdown",
      "source": [
        "#Projeto 01 - Análise Quantitativa de Corpus\n",
        "\n"
      ],
      "metadata": {
        "id": "poakg9jijDYM"
      }
    },
    {
      "cell_type": "markdown",
      "source": [
        "## Inicio do processamento do corpus"
      ],
      "metadata": {
        "id": "73Tt3_QG0yMj"
      }
    },
    {
      "cell_type": "code",
      "source": [
        "# criar uma função para fazer a abertura e leitura do arquivo\n",
        "def ler(nome_arquivo):\n",
        "  arquivo = open(nome_arquivo,'r', encoding='utf-8')\n",
        "  conteudo_arq = arquivo.read()\n",
        "  arquivo.close()\n",
        "  return conteudo_arq"
      ],
      "metadata": {
        "id": "fiaUnOg70wYL"
      },
      "execution_count": 2,
      "outputs": []
    },
    {
      "cell_type": "code",
      "source": [
        "texto = ler('/coreia_do_sul.txt')\n",
        "print(len(texto))"
      ],
      "metadata": {
        "colab": {
          "base_uri": "https://localhost:8080/"
        },
        "id": "1PFaOSdy1-V6",
        "outputId": "2ab06410-6825-4b83-88fb-0800e47f7d61"
      },
      "execution_count": 4,
      "outputs": [
        {
          "output_type": "stream",
          "name": "stdout",
          "text": [
            "1413\n"
          ]
        }
      ]
    },
    {
      "cell_type": "markdown",
      "source": [
        "## Primeira etapa - Buscador de palavras"
      ],
      "metadata": {
        "id": "q2DFSzYi3OWM"
      }
    },
    {
      "cell_type": "code",
      "source": [
        "def buscador(alvo, texto):\n",
        "  texto = texto.replace('\\n', ' ')\n",
        "  texto = texto.replace('\\t', ' ')\n",
        "\n",
        "  ocorrencias = []\n",
        "\n",
        "  encontrado_aqui = texto.find(alvo, 0)\n",
        "    #Se encontra a palavra, informa a posição\n",
        "    #SE não encontrar, informa -1\n",
        "\n",
        "  while encontrado_aqui > 0:\n",
        "    pos_inicial = encontrado_aqui - (40 - len(alvo))\n",
        "    trecho = texto[pos_inicial: pos_inicial + 80]\n",
        "\n",
        "    ocorrencias.append(trecho)\n",
        "\n",
        "    encontrado_aqui = texto.find(alvo, encontrado_aqui + 1)\n",
        "\n",
        "    # inicia a busca a partir da posição anterior + 1\n",
        "    #Se encontra a palavra, informa a posição\n",
        "    #SE não encontrar, informa -1\n",
        "\n",
        "  return ocorrencias"
      ],
      "metadata": {
        "id": "2ff5SBtw3Ncs"
      },
      "execution_count": 5,
      "outputs": []
    },
    {
      "cell_type": "code",
      "source": [
        "resultados = buscador('peito', texto)\n",
        "\n",
        "for trecho in resultados:\n",
        "  print(trecho)"
      ],
      "metadata": {
        "id": "s9UAC34e3NaF"
      },
      "execution_count": 6,
      "outputs": []
    },
    {
      "cell_type": "markdown",
      "source": [
        "## Segunda Etapa - Limpeza dos corpus"
      ],
      "metadata": {
        "id": "DfmyoX0L8z2o"
      }
    },
    {
      "cell_type": "code",
      "source": [
        "palavras = texto.split()"
      ],
      "metadata": {
        "id": "GuA3F77K9Tjn"
      },
      "execution_count": 7,
      "outputs": []
    },
    {
      "cell_type": "code",
      "source": [
        "def limpar(lista):\n",
        "  lixo = '.,:;?!\"´`^~()[]{}/\\|@#$%¨&*-'\n",
        "  quase_limpo = [x.strip(lixo).lower() for x in lista]\n",
        "  return [x for x in quase_limpo if x.isalpha() or '-' not in x]"
      ],
      "metadata": {
        "id": "VnQEm1nM3NUU"
      },
      "execution_count": 8,
      "outputs": []
    },
    {
      "cell_type": "code",
      "source": [
        "teste = \"Corre-se atrás do carro, corre se o carro for embora.\"\n",
        "word = teste.split()\n",
        "print(word)"
      ],
      "metadata": {
        "colab": {
          "base_uri": "https://localhost:8080/"
        },
        "id": "-vGfOC663NXU",
        "outputId": "f044659b-67da-49e3-fe93-b823e9f6d7aa"
      },
      "execution_count": 9,
      "outputs": [
        {
          "output_type": "stream",
          "name": "stdout",
          "text": [
            "['Corre-se', 'atrás', 'do', 'carro,', 'corre', 'se', 'o', 'carro', 'for', 'embora.']\n"
          ]
        }
      ]
    },
    {
      "cell_type": "code",
      "source": [
        "print(limpar(word))"
      ],
      "metadata": {
        "colab": {
          "base_uri": "https://localhost:8080/"
        },
        "id": "F2RWM6ZA3NPM",
        "outputId": "7653c69e-32e2-4731-a046-6d31740dd291"
      },
      "execution_count": 10,
      "outputs": [
        {
          "output_type": "stream",
          "name": "stdout",
          "text": [
            "['atrás', 'do', 'carro', 'corre', 'se', 'o', 'carro', 'for', 'embora']\n"
          ]
        }
      ]
    },
    {
      "cell_type": "code",
      "source": [
        "print(len(palavras))\n",
        "palavras = limpar(palavras)\n",
        "print(len(palavras))"
      ],
      "metadata": {
        "colab": {
          "base_uri": "https://localhost:8080/"
        },
        "id": "hqELs5_wAWht",
        "outputId": "49f8f3af-0af0-4de0-e8cc-1f82e7f3e5f9"
      },
      "execution_count": 11,
      "outputs": [
        {
          "output_type": "stream",
          "name": "stdout",
          "text": [
            "221\n",
            "215\n"
          ]
        }
      ]
    },
    {
      "cell_type": "markdown",
      "source": [
        "Descrevendo os métodos utilizados na limpeza:\n",
        "* split() - transformar um texto, em uma lista de palavras\n",
        "* strip() - eliminar sinais ou caracteres no começo ou no fim de uma palavras\n",
        "* isalpha - realizar um filtro eliminando números ou simbolos de uma lista de referência"
      ],
      "metadata": {
        "id": "wyBzRXLkA_tC"
      }
    },
    {
      "cell_type": "markdown",
      "source": [
        "## Terceira Etapa - Quantidade de palavras\n",
        "1. Quantifica as palavras\n",
        "2. Classificação de ocorrências"
      ],
      "metadata": {
        "id": "phtVes3VBksH"
      }
    },
    {
      "cell_type": "code",
      "source": [
        "# Conhecer a quantidade de palavras e vocabulário\n",
        "vocabulario = set(palavras)\n",
        "len(vocabulario)"
      ],
      "metadata": {
        "id": "bEeAgS-V3NMs",
        "colab": {
          "base_uri": "https://localhost:8080/"
        },
        "outputId": "2fb719b2-7c4b-4c79-d845-4ca09ac2d435"
      },
      "execution_count": 12,
      "outputs": [
        {
          "output_type": "execute_result",
          "data": {
            "text/plain": [
              "144"
            ]
          },
          "metadata": {},
          "execution_count": 12
        }
      ]
    },
    {
      "cell_type": "code",
      "source": [
        "# calculando a riqueza textual do corpus\n",
        "riqueza = len(vocabulario) / len(palavras) # 6902 / 36585\n",
        "riqueza"
      ],
      "metadata": {
        "colab": {
          "base_uri": "https://localhost:8080/"
        },
        "id": "d485I_rf6cH0",
        "outputId": "de137844-364c-4e56-c4bf-bc4296af9c3d"
      },
      "execution_count": 13,
      "outputs": [
        {
          "output_type": "execute_result",
          "data": {
            "text/plain": [
              "0.6697674418604651"
            ]
          },
          "metadata": {},
          "execution_count": 13
        }
      ]
    },
    {
      "cell_type": "code",
      "source": [
        "# Criar um dicionário deste texto\n",
        "from collections import defaultdict\n",
        "\n",
        "def ocorrencias(lista_palavras):\n",
        "  dicionario = defaultdict(int)\n",
        "  for p in lista_palavras:\n",
        "    dicionario[p] += 1\n",
        "\n",
        "  return dicionario"
      ],
      "metadata": {
        "id": "F1x3eX1E3NKM"
      },
      "execution_count": 14,
      "outputs": []
    },
    {
      "cell_type": "code",
      "source": [
        "dic = ocorrencias(palavras)\n",
        "mf = sorted(dic.items(), key=lambda tupla:tupla[1],reverse=True)[:50]\n",
        "for palavra, n in mf:\n",
        "  print(palavra,'\\t',n)"
      ],
      "metadata": {
        "id": "h4YasC2N-fSq",
        "colab": {
          "base_uri": "https://localhost:8080/"
        },
        "outputId": "39114c73-a3a8-4b3d-812d-02035a21f05d"
      },
      "execution_count": 15,
      "outputs": [
        {
          "output_type": "stream",
          "name": "stdout",
          "text": [
            "e \t 11\n",
            "do \t 9\n",
            "coreia \t 7\n",
            "a \t 5\n",
            "o \t 5\n",
            "sul \t 4\n",
            "da \t 4\n",
            "de \t 4\n",
            "com \t 4\n",
            "é \t 4\n",
            "em \t 4\n",
            "mundo \t 3\n",
            "os \t 3\n",
            " \t 3\n",
            "oficial \t 2\n",
            "república \t 2\n",
            "coreano \t 2\n",
            "no \t 2\n",
            "norte \t 2\n",
            "japão \t 2\n",
            "por \t 2\n",
            "sua \t 2\n",
            "como \t 2\n",
            "educação \t 2\n",
            "inovação \t 2\n",
            "cultura \t 2\n",
            "país \t 2\n",
            "um \t 2\n",
            "dos \t 2\n",
            "– \t 1\n",
            "informações \t 1\n",
            "gerais \t 1\n",
            "nome \t 1\n",
            "capital \t 1\n",
            "seul \t 1\n",
            "idioma \t 1\n",
            "população \t 1\n",
            "aproximadamente \t 1\n",
            "52 \t 1\n",
            "milhões \t 1\n",
            "habitantes \t 1\n",
            "moeda \t 1\n",
            "won \t 1\n",
            "krw \t 1\n",
            "governo \t 1\n",
            "presidencialista \t 1\n",
            "democrática \t 1\n",
            "presidente \t 1\n",
            "atual \t 1\n",
            "yoon \t 1\n"
          ]
        }
      ]
    },
    {
      "cell_type": "code",
      "source": [
        "import nltk\n",
        "nltk.download('stopwords')\n",
        "vazias = nltk.corpus.stopwords.words('portuguese')"
      ],
      "metadata": {
        "colab": {
          "base_uri": "https://localhost:8080/"
        },
        "collapsed": true,
        "id": "p85TimwCBDEz",
        "outputId": "3007ca76-a4cb-424e-8da7-f302ead97efc"
      },
      "execution_count": 17,
      "outputs": [
        {
          "output_type": "stream",
          "name": "stderr",
          "text": [
            "[nltk_data] Downloading package stopwords to /root/nltk_data...\n",
            "[nltk_data]   Unzipping corpora/stopwords.zip.\n"
          ]
        }
      ]
    },
    {
      "cell_type": "code",
      "source": [
        "frequentes_plenas = [x for x in mf if x[0].lower() not in vazias]\n",
        "frequentes_plenas"
      ],
      "metadata": {
        "id": "tcfXsT1sBTD7",
        "colab": {
          "base_uri": "https://localhost:8080/"
        },
        "outputId": "5374aaeb-a78b-44f9-86b4-d3e5bf95dd85"
      },
      "execution_count": 18,
      "outputs": [
        {
          "output_type": "execute_result",
          "data": {
            "text/plain": [
              "[('coreia', 7),\n",
              " ('sul', 4),\n",
              " ('mundo', 3),\n",
              " ('', 3),\n",
              " ('oficial', 2),\n",
              " ('república', 2),\n",
              " ('coreano', 2),\n",
              " ('norte', 2),\n",
              " ('japão', 2),\n",
              " ('educação', 2),\n",
              " ('inovação', 2),\n",
              " ('cultura', 2),\n",
              " ('país', 2),\n",
              " ('–', 1),\n",
              " ('informações', 1),\n",
              " ('gerais', 1),\n",
              " ('nome', 1),\n",
              " ('capital', 1),\n",
              " ('seul', 1),\n",
              " ('idioma', 1),\n",
              " ('população', 1),\n",
              " ('aproximadamente', 1),\n",
              " ('52', 1),\n",
              " ('milhões', 1),\n",
              " ('habitantes', 1),\n",
              " ('moeda', 1),\n",
              " ('won', 1),\n",
              " ('krw', 1),\n",
              " ('governo', 1),\n",
              " ('presidencialista', 1),\n",
              " ('democrática', 1),\n",
              " ('presidente', 1),\n",
              " ('atual', 1),\n",
              " ('yoon', 1)]"
            ]
          },
          "metadata": {},
          "execution_count": 18
        }
      ]
    }
  ]
}