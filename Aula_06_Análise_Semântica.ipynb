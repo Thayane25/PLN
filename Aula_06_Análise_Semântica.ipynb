{
  "nbformat": 4,
  "nbformat_minor": 0,
  "metadata": {
    "colab": {
      "provenance": [],
      "authorship_tag": "ABX9TyPZVhsMwU7bFQ4E8sxoTLAu",
      "include_colab_link": true
    },
    "kernelspec": {
      "name": "python3",
      "display_name": "Python 3"
    },
    "language_info": {
      "name": "python"
    }
  },
  "cells": [
    {
      "cell_type": "markdown",
      "metadata": {
        "id": "view-in-github",
        "colab_type": "text"
      },
      "source": [
        "<a href=\"https://colab.research.google.com/github/Thayane25/PLN/blob/main/Aula_06_An%C3%A1lise_Sem%C3%A2ntica.ipynb\" target=\"_parent\"><img src=\"https://colab.research.google.com/assets/colab-badge.svg\" alt=\"Open In Colab\"/></a>"
      ]
    },
    {
      "cell_type": "markdown",
      "source": [
        "#Aula 06 - Análise Semântica\n",
        "### tem como objetivo apresentar conceitos e exemplos práticos de análise semântica em Processamento de Linguagem Natural (PLN). Ele aborda representações do significado de palavras e frases por meio de redes semânticas (como o WordNet) e vetores (embeddings), utilizando ferramentas como o NLTK. O notebook visa demonstrar como extrair, interpretar e representar semanticamente informações textuais."
      ],
      "metadata": {
        "id": "VLJkax718zm7"
      }
    },
    {
      "cell_type": "markdown",
      "source": [
        "#Exemplo 01 - Representação do significado das palavras e frases com redes"
      ],
      "metadata": {
        "id": "SdQkD7qTu55X"
      }
    },
    {
      "cell_type": "code",
      "execution_count": 1,
      "metadata": {
        "colab": {
          "base_uri": "https://localhost:8080/"
        },
        "id": "Wan1Cjv73gBN",
        "outputId": "436ab261-8b17-41fe-cf1f-053a04934e59"
      },
      "outputs": [
        {
          "output_type": "stream",
          "name": "stderr",
          "text": [
            "[nltk_data] Downloading package wordnet to /root/nltk_data...\n",
            "[nltk_data] Downloading package omw-1.4 to /root/nltk_data...\n"
          ]
        },
        {
          "output_type": "stream",
          "name": "stdout",
          "text": [
            "[Synset('sand.n.01'), Synset('sand.n.02'), Synset('backbone.n.02'), Synset('sandpaper.v.01')]\n",
            "sand\n",
            "Sand\n",
            "backbone\n",
            "sandpaper\n"
          ]
        }
      ],
      "source": [
        "import nltk\n",
        "from nltk.corpus import wordnet\n",
        "\n",
        "nltk.download('wordnet')  # Download do WordNet para sinônimos\n",
        "nltk.download('omw-1.4')  # Download do corpus de palavras em vários idiomas\n",
        "\n",
        "# Encontra os sinônimos da palavra \"sand\" e seu significado\n",
        "sinonimos = wordnet.synsets(\"sand\")\n",
        "\n",
        "print(sinonimos)  # Imprime a lista de sinônimos encontrados\n",
        "\n",
        "for s in sinonimos:\n",
        "    print(s.lemmas()[0].name())  # Mostra cada sinônimo encontrado\n",
        "\n"
      ]
    },
    {
      "cell_type": "markdown",
      "source": [
        "## Exemplo 02 - Representação do significado das palavras e frases por vetores (embeddings)\n"
      ],
      "metadata": {
        "id": "m2qBxS_2vmTx"
      }
    },
    {
      "cell_type": "code",
      "source": [
        "!pip install spacy\n",
        "!python -m spacy download pt_core_news_md"
      ],
      "metadata": {
        "colab": {
          "base_uri": "https://localhost:8080/"
        },
        "id": "6eNvlphPvpHw",
        "outputId": "a3ec5026-00b1-4f66-9c48-f160c4a7ad69"
      },
      "execution_count": null,
      "outputs": [
        {
          "output_type": "stream",
          "name": "stdout",
          "text": [
            "Requirement already satisfied: spacy in /usr/local/lib/python3.11/dist-packages (3.8.5)\n",
            "Requirement already satisfied: spacy-legacy<3.1.0,>=3.0.11 in /usr/local/lib/python3.11/dist-packages (from spacy) (3.0.12)\n",
            "Requirement already satisfied: spacy-loggers<2.0.0,>=1.0.0 in /usr/local/lib/python3.11/dist-packages (from spacy) (1.0.5)\n",
            "Requirement already satisfied: murmurhash<1.1.0,>=0.28.0 in /usr/local/lib/python3.11/dist-packages (from spacy) (1.0.12)\n",
            "Requirement already satisfied: cymem<2.1.0,>=2.0.2 in /usr/local/lib/python3.11/dist-packages (from spacy) (2.0.11)\n",
            "Requirement already satisfied: preshed<3.1.0,>=3.0.2 in /usr/local/lib/python3.11/dist-packages (from spacy) (3.0.9)\n",
            "Requirement already satisfied: thinc<8.4.0,>=8.3.4 in /usr/local/lib/python3.11/dist-packages (from spacy) (8.3.6)\n",
            "Requirement already satisfied: wasabi<1.2.0,>=0.9.1 in /usr/local/lib/python3.11/dist-packages (from spacy) (1.1.3)\n",
            "Requirement already satisfied: srsly<3.0.0,>=2.4.3 in /usr/local/lib/python3.11/dist-packages (from spacy) (2.5.1)\n",
            "Requirement already satisfied: catalogue<2.1.0,>=2.0.6 in /usr/local/lib/python3.11/dist-packages (from spacy) (2.0.10)\n",
            "Requirement already satisfied: weasel<0.5.0,>=0.1.0 in /usr/local/lib/python3.11/dist-packages (from spacy) (0.4.1)\n",
            "Requirement already satisfied: typer<1.0.0,>=0.3.0 in /usr/local/lib/python3.11/dist-packages (from spacy) (0.15.2)\n",
            "Requirement already satisfied: tqdm<5.0.0,>=4.38.0 in /usr/local/lib/python3.11/dist-packages (from spacy) (4.67.1)\n",
            "Requirement already satisfied: numpy>=1.19.0 in /usr/local/lib/python3.11/dist-packages (from spacy) (2.0.2)\n",
            "Requirement already satisfied: requests<3.0.0,>=2.13.0 in /usr/local/lib/python3.11/dist-packages (from spacy) (2.32.3)\n",
            "Requirement already satisfied: pydantic!=1.8,!=1.8.1,<3.0.0,>=1.7.4 in /usr/local/lib/python3.11/dist-packages (from spacy) (2.11.2)\n",
            "Requirement already satisfied: jinja2 in /usr/local/lib/python3.11/dist-packages (from spacy) (3.1.6)\n",
            "Requirement already satisfied: setuptools in /usr/local/lib/python3.11/dist-packages (from spacy) (75.2.0)\n",
            "Requirement already satisfied: packaging>=20.0 in /usr/local/lib/python3.11/dist-packages (from spacy) (24.2)\n",
            "Requirement already satisfied: langcodes<4.0.0,>=3.2.0 in /usr/local/lib/python3.11/dist-packages (from spacy) (3.5.0)\n",
            "Requirement already satisfied: language-data>=1.2 in /usr/local/lib/python3.11/dist-packages (from langcodes<4.0.0,>=3.2.0->spacy) (1.3.0)\n",
            "Requirement already satisfied: annotated-types>=0.6.0 in /usr/local/lib/python3.11/dist-packages (from pydantic!=1.8,!=1.8.1,<3.0.0,>=1.7.4->spacy) (0.7.0)\n",
            "Requirement already satisfied: pydantic-core==2.33.1 in /usr/local/lib/python3.11/dist-packages (from pydantic!=1.8,!=1.8.1,<3.0.0,>=1.7.4->spacy) (2.33.1)\n",
            "Requirement already satisfied: typing-extensions>=4.12.2 in /usr/local/lib/python3.11/dist-packages (from pydantic!=1.8,!=1.8.1,<3.0.0,>=1.7.4->spacy) (4.13.1)\n",
            "Requirement already satisfied: typing-inspection>=0.4.0 in /usr/local/lib/python3.11/dist-packages (from pydantic!=1.8,!=1.8.1,<3.0.0,>=1.7.4->spacy) (0.4.0)\n",
            "Requirement already satisfied: charset-normalizer<4,>=2 in /usr/local/lib/python3.11/dist-packages (from requests<3.0.0,>=2.13.0->spacy) (3.4.1)\n",
            "Requirement already satisfied: idna<4,>=2.5 in /usr/local/lib/python3.11/dist-packages (from requests<3.0.0,>=2.13.0->spacy) (3.10)\n",
            "Requirement already satisfied: urllib3<3,>=1.21.1 in /usr/local/lib/python3.11/dist-packages (from requests<3.0.0,>=2.13.0->spacy) (2.3.0)\n",
            "Requirement already satisfied: certifi>=2017.4.17 in /usr/local/lib/python3.11/dist-packages (from requests<3.0.0,>=2.13.0->spacy) (2025.1.31)\n",
            "Requirement already satisfied: blis<1.4.0,>=1.3.0 in /usr/local/lib/python3.11/dist-packages (from thinc<8.4.0,>=8.3.4->spacy) (1.3.0)\n",
            "Requirement already satisfied: confection<1.0.0,>=0.0.1 in /usr/local/lib/python3.11/dist-packages (from thinc<8.4.0,>=8.3.4->spacy) (0.1.5)\n",
            "Requirement already satisfied: click>=8.0.0 in /usr/local/lib/python3.11/dist-packages (from typer<1.0.0,>=0.3.0->spacy) (8.1.8)\n",
            "Requirement already satisfied: shellingham>=1.3.0 in /usr/local/lib/python3.11/dist-packages (from typer<1.0.0,>=0.3.0->spacy) (1.5.4)\n",
            "Requirement already satisfied: rich>=10.11.0 in /usr/local/lib/python3.11/dist-packages (from typer<1.0.0,>=0.3.0->spacy) (13.9.4)\n",
            "Requirement already satisfied: cloudpathlib<1.0.0,>=0.7.0 in /usr/local/lib/python3.11/dist-packages (from weasel<0.5.0,>=0.1.0->spacy) (0.21.0)\n",
            "Requirement already satisfied: smart-open<8.0.0,>=5.2.1 in /usr/local/lib/python3.11/dist-packages (from weasel<0.5.0,>=0.1.0->spacy) (7.1.0)\n",
            "Requirement already satisfied: MarkupSafe>=2.0 in /usr/local/lib/python3.11/dist-packages (from jinja2->spacy) (3.0.2)\n",
            "Requirement already satisfied: marisa-trie>=1.1.0 in /usr/local/lib/python3.11/dist-packages (from language-data>=1.2->langcodes<4.0.0,>=3.2.0->spacy) (1.2.1)\n",
            "Requirement already satisfied: markdown-it-py>=2.2.0 in /usr/local/lib/python3.11/dist-packages (from rich>=10.11.0->typer<1.0.0,>=0.3.0->spacy) (3.0.0)\n",
            "Requirement already satisfied: pygments<3.0.0,>=2.13.0 in /usr/local/lib/python3.11/dist-packages (from rich>=10.11.0->typer<1.0.0,>=0.3.0->spacy) (2.18.0)\n",
            "Requirement already satisfied: wrapt in /usr/local/lib/python3.11/dist-packages (from smart-open<8.0.0,>=5.2.1->weasel<0.5.0,>=0.1.0->spacy) (1.17.2)\n",
            "Requirement already satisfied: mdurl~=0.1 in /usr/local/lib/python3.11/dist-packages (from markdown-it-py>=2.2.0->rich>=10.11.0->typer<1.0.0,>=0.3.0->spacy) (0.1.2)\n",
            "Collecting pt-core-news-md==3.8.0\n",
            "  Downloading https://github.com/explosion/spacy-models/releases/download/pt_core_news_md-3.8.0/pt_core_news_md-3.8.0-py3-none-any.whl (42.4 MB)\n",
            "\u001b[2K     \u001b[90m━━━━━━━━━━━━━━━━━━━━━━━━━━━━━━━━━━━━━━━━\u001b[0m \u001b[32m42.4/42.4 MB\u001b[0m \u001b[31m13.0 MB/s\u001b[0m eta \u001b[36m0:00:00\u001b[0m\n",
            "\u001b[?25h\u001b[38;5;2m✔ Download and installation successful\u001b[0m\n",
            "You can now load the package via spacy.load('pt_core_news_md')\n",
            "\u001b[38;5;3m⚠ Restart to reload dependencies\u001b[0m\n",
            "If you are in a Jupyter or Colab notebook, you may need to restart Python in\n",
            "order to load all the package's dependencies. You can do this by selecting the\n",
            "'Restart kernel' or 'Restart runtime' option.\n"
          ]
        }
      ]
    },
    {
      "cell_type": "code",
      "source": [
        "import spacy\n",
        "\n",
        "nlp = spacy.load('pt_core_news_md')\n",
        "\n",
        "# Criação de objetos, com suas informações e vetores\n",
        "palavra1 = nlp('rei')\n",
        "palavra2 = nlp('rainha')\n",
        "\n",
        "# Calculo de similaridades dos objetos vetorizados\n",
        "print(palavra1.similarity(palavra2))"
      ],
      "metadata": {
        "colab": {
          "base_uri": "https://localhost:8080/"
        },
        "id": "XnIs2KhOvzrI",
        "outputId": "a3f6d393-cdd2-4da1-9c45-e8a26f7e0892"
      },
      "execution_count": null,
      "outputs": [
        {
          "output_type": "stream",
          "name": "stdout",
          "text": [
            "0.6001228094100952\n"
          ]
        }
      ]
    },
    {
      "cell_type": "markdown",
      "source": [
        "## Exemplo 03 - Árvore Sintática"
      ],
      "metadata": {
        "id": "42Wk0a4SwS6C"
      }
    },
    {
      "cell_type": "code",
      "source": [
        "import spacy\n",
        "from spacy import displacy\n",
        "  # Módulo para visualização de dependencias\n",
        "\n",
        "nlp = spacy.load('pt_core_news_md')\n",
        "frase = \"O cachorro correu no parque.\"\n",
        "doc = nlp(frase)\n",
        "\n",
        "displacy.render(doc, style='dep', jupyter=True)"
      ],
      "metadata": {
        "colab": {
          "base_uri": "https://localhost:8080/",
          "height": 333
        },
        "id": "T8PDYlBwwG4-",
        "outputId": "34658da6-b425-4de2-98aa-33cfc8c92922"
      },
      "execution_count": null,
      "outputs": [
        {
          "output_type": "display_data",
          "data": {
            "text/plain": [
              "<IPython.core.display.HTML object>"
            ],
            "text/html": [
              "<span class=\"tex2jax_ignore\"><svg xmlns=\"http://www.w3.org/2000/svg\" xmlns:xlink=\"http://www.w3.org/1999/xlink\" xml:lang=\"pt\" id=\"ad76074b529b41c18fd08c74904b86e9-0\" class=\"displacy\" width=\"925\" height=\"312.0\" direction=\"ltr\" style=\"max-width: none; height: 312.0px; color: #000000; background: #ffffff; font-family: Arial; direction: ltr\">\n",
              "<text class=\"displacy-token\" fill=\"currentColor\" text-anchor=\"middle\" y=\"222.0\">\n",
              "    <tspan class=\"displacy-word\" fill=\"currentColor\" x=\"50\">O</tspan>\n",
              "    <tspan class=\"displacy-tag\" dy=\"2em\" fill=\"currentColor\" x=\"50\">DET</tspan>\n",
              "</text>\n",
              "\n",
              "<text class=\"displacy-token\" fill=\"currentColor\" text-anchor=\"middle\" y=\"222.0\">\n",
              "    <tspan class=\"displacy-word\" fill=\"currentColor\" x=\"225\">cachorro</tspan>\n",
              "    <tspan class=\"displacy-tag\" dy=\"2em\" fill=\"currentColor\" x=\"225\">NOUN</tspan>\n",
              "</text>\n",
              "\n",
              "<text class=\"displacy-token\" fill=\"currentColor\" text-anchor=\"middle\" y=\"222.0\">\n",
              "    <tspan class=\"displacy-word\" fill=\"currentColor\" x=\"400\">correu</tspan>\n",
              "    <tspan class=\"displacy-tag\" dy=\"2em\" fill=\"currentColor\" x=\"400\">VERB</tspan>\n",
              "</text>\n",
              "\n",
              "<text class=\"displacy-token\" fill=\"currentColor\" text-anchor=\"middle\" y=\"222.0\">\n",
              "    <tspan class=\"displacy-word\" fill=\"currentColor\" x=\"575\">no</tspan>\n",
              "    <tspan class=\"displacy-tag\" dy=\"2em\" fill=\"currentColor\" x=\"575\">ADP</tspan>\n",
              "</text>\n",
              "\n",
              "<text class=\"displacy-token\" fill=\"currentColor\" text-anchor=\"middle\" y=\"222.0\">\n",
              "    <tspan class=\"displacy-word\" fill=\"currentColor\" x=\"750\">parque.</tspan>\n",
              "    <tspan class=\"displacy-tag\" dy=\"2em\" fill=\"currentColor\" x=\"750\">NOUN</tspan>\n",
              "</text>\n",
              "\n",
              "<g class=\"displacy-arrow\">\n",
              "    <path class=\"displacy-arc\" id=\"arrow-ad76074b529b41c18fd08c74904b86e9-0-0\" stroke-width=\"2px\" d=\"M70,177.0 C70,89.5 220.0,89.5 220.0,177.0\" fill=\"none\" stroke=\"currentColor\"/>\n",
              "    <text dy=\"1.25em\" style=\"font-size: 0.8em; letter-spacing: 1px\">\n",
              "        <textPath xlink:href=\"#arrow-ad76074b529b41c18fd08c74904b86e9-0-0\" class=\"displacy-label\" startOffset=\"50%\" side=\"left\" fill=\"currentColor\" text-anchor=\"middle\">det</textPath>\n",
              "    </text>\n",
              "    <path class=\"displacy-arrowhead\" d=\"M70,179.0 L62,167.0 78,167.0\" fill=\"currentColor\"/>\n",
              "</g>\n",
              "\n",
              "<g class=\"displacy-arrow\">\n",
              "    <path class=\"displacy-arc\" id=\"arrow-ad76074b529b41c18fd08c74904b86e9-0-1\" stroke-width=\"2px\" d=\"M245,177.0 C245,89.5 395.0,89.5 395.0,177.0\" fill=\"none\" stroke=\"currentColor\"/>\n",
              "    <text dy=\"1.25em\" style=\"font-size: 0.8em; letter-spacing: 1px\">\n",
              "        <textPath xlink:href=\"#arrow-ad76074b529b41c18fd08c74904b86e9-0-1\" class=\"displacy-label\" startOffset=\"50%\" side=\"left\" fill=\"currentColor\" text-anchor=\"middle\">nsubj</textPath>\n",
              "    </text>\n",
              "    <path class=\"displacy-arrowhead\" d=\"M245,179.0 L237,167.0 253,167.0\" fill=\"currentColor\"/>\n",
              "</g>\n",
              "\n",
              "<g class=\"displacy-arrow\">\n",
              "    <path class=\"displacy-arc\" id=\"arrow-ad76074b529b41c18fd08c74904b86e9-0-2\" stroke-width=\"2px\" d=\"M595,177.0 C595,89.5 745.0,89.5 745.0,177.0\" fill=\"none\" stroke=\"currentColor\"/>\n",
              "    <text dy=\"1.25em\" style=\"font-size: 0.8em; letter-spacing: 1px\">\n",
              "        <textPath xlink:href=\"#arrow-ad76074b529b41c18fd08c74904b86e9-0-2\" class=\"displacy-label\" startOffset=\"50%\" side=\"left\" fill=\"currentColor\" text-anchor=\"middle\">case</textPath>\n",
              "    </text>\n",
              "    <path class=\"displacy-arrowhead\" d=\"M595,179.0 L587,167.0 603,167.0\" fill=\"currentColor\"/>\n",
              "</g>\n",
              "\n",
              "<g class=\"displacy-arrow\">\n",
              "    <path class=\"displacy-arc\" id=\"arrow-ad76074b529b41c18fd08c74904b86e9-0-3\" stroke-width=\"2px\" d=\"M420,177.0 C420,2.0 750.0,2.0 750.0,177.0\" fill=\"none\" stroke=\"currentColor\"/>\n",
              "    <text dy=\"1.25em\" style=\"font-size: 0.8em; letter-spacing: 1px\">\n",
              "        <textPath xlink:href=\"#arrow-ad76074b529b41c18fd08c74904b86e9-0-3\" class=\"displacy-label\" startOffset=\"50%\" side=\"left\" fill=\"currentColor\" text-anchor=\"middle\">obl</textPath>\n",
              "    </text>\n",
              "    <path class=\"displacy-arrowhead\" d=\"M750.0,179.0 L758.0,167.0 742.0,167.0\" fill=\"currentColor\"/>\n",
              "</g>\n",
              "</svg></span>"
            ]
          },
          "metadata": {}
        }
      ]
    },
    {
      "cell_type": "code",
      "source": [
        "##Exemplo 04 - Ontologia"
      ],
      "metadata": {
        "id": "r0i9POKlwjHT"
      },
      "execution_count": null,
      "outputs": []
    },
    {
      "cell_type": "code",
      "source": [
        "!pip install owlready2"
      ],
      "metadata": {
        "colab": {
          "base_uri": "https://localhost:8080/"
        },
        "id": "vmYeVIHWwd4F",
        "outputId": "48c73123-245a-4331-97a7-f2df0d554301"
      },
      "execution_count": null,
      "outputs": [
        {
          "output_type": "stream",
          "name": "stdout",
          "text": [
            "Collecting owlready2\n",
            "  Downloading owlready2-0.47.tar.gz (27.3 MB)\n",
            "\u001b[2K     \u001b[90m━━━━━━━━━━━━━━━━━━━━━━━━━━━━━━━━━━━━━━━━\u001b[0m \u001b[32m27.3/27.3 MB\u001b[0m \u001b[31m46.1 MB/s\u001b[0m eta \u001b[36m0:00:00\u001b[0m\n",
            "\u001b[?25h  Installing build dependencies ... \u001b[?25l\u001b[?25hdone\n",
            "  Getting requirements to build wheel ... \u001b[?25l\u001b[?25hdone\n",
            "  Preparing metadata (pyproject.toml) ... \u001b[?25l\u001b[?25hdone\n",
            "Building wheels for collected packages: owlready2\n",
            "  Building wheel for owlready2 (pyproject.toml) ... \u001b[?25l\u001b[?25hdone\n",
            "  Created wheel for owlready2: filename=owlready2-0.47-cp311-cp311-linux_x86_64.whl size=24577498 sha256=fef7550680e926e8395600eebf99196926370368535c3b7550d338561f34e587\n",
            "  Stored in directory: /root/.cache/pip/wheels/25/9a/a3/fb1ac6339caa859c8bb18d685736168b0b51d851af13d81d52\n",
            "Successfully built owlready2\n",
            "Installing collected packages: owlready2\n",
            "Successfully installed owlready2-0.47\n"
          ]
        }
      ]
    },
    {
      "cell_type": "code",
      "source": [
        "from owlready2 import *\n",
        "\n",
        "# Criando uma nova ontologia\n",
        "onto = get_ontology(\"http://exemplo.com/minha_ontologia.owl\")\n",
        "\n",
        "with onto:\n",
        "  class Animal(Thing): pass\n",
        "  class Mamifero(Animal): pass\n",
        "  class cachorro(Mamifero): pass\n",
        "  class Gato(Mamifero): pass\n",
        "\n",
        "  onto.save(\"minha_ontologia.owl\")"
      ],
      "metadata": {
        "id": "Bfnt5gW7wobf"
      },
      "execution_count": null,
      "outputs": []
    },
    {
      "cell_type": "markdown",
      "source": [
        "## Estudo de Caso 01 - Aplicação de Análise Semântica em um corpus"
      ],
      "metadata": {
        "id": "UnJF8lU4wtW5"
      }
    },
    {
      "cell_type": "code",
      "source": [
        "# Importando as bibliotecas necessárias\n",
        "import spacy\n",
        "import nltk\n",
        "import pandas as pd\n",
        "\n",
        "from nltk.corpus import wordnet as wn\n"
      ],
      "metadata": {
        "id": "85IZwqTzwu4T"
      },
      "execution_count": null,
      "outputs": []
    },
    {
      "cell_type": "code",
      "source": [
        "nltk.download('wordnet')\n",
        "nltk.download('omw-1.4')\n",
        "\n",
        "nlp = spacy.load(\"en_core_web_sm\")"
      ],
      "metadata": {
        "colab": {
          "base_uri": "https://localhost:8080/"
        },
        "id": "hHuREczWy5z8",
        "outputId": "272d097f-a224-4422-e4ae-8ca6295bee71"
      },
      "execution_count": null,
      "outputs": [
        {
          "output_type": "stream",
          "name": "stderr",
          "text": [
            "[nltk_data] Downloading package wordnet to /root/nltk_data...\n",
            "[nltk_data]   Package wordnet is already up-to-date!\n",
            "[nltk_data] Downloading package omw-1.4 to /root/nltk_data...\n",
            "[nltk_data]   Package omw-1.4 is already up-to-date!\n"
          ]
        }
      ]
    },
    {
      "cell_type": "code",
      "source": [
        "# Texto de estudo de caso\n",
        "text = \"Apple is looking at buying U.K. startup for $1 billion. Steve Jobs founded Apple\"\n",
        "\n",
        "# 1. Análise Sintática\n",
        "doc = nlp(text)\n",
        "syntatic_data = []\n",
        "\n",
        "for token in doc:\n",
        "  syntatic_data.append({\n",
        "      \"Token\": token.text,\n",
        "      \"Pos-Tag\": token.pos_,\n",
        "      \"Dependência\": token.dep_,\n",
        "      \"Cabeça da Dep\": token.head.text\n",
        "  })\n",
        "\n",
        "  # Convertendo para DataFrame\n",
        "  df_syntatic = pd.DataFrame(syntatic_data)\n",
        "  print(\"\\n Análise Sintática:\")\n",
        "  print(df_syntatic)"
      ],
      "metadata": {
        "colab": {
          "base_uri": "https://localhost:8080/"
        },
        "id": "dZy5NoBtw17M",
        "outputId": "5183086a-4ed8-4737-b73a-7d766458102d"
      },
      "execution_count": null,
      "outputs": [
        {
          "output_type": "stream",
          "name": "stdout",
          "text": [
            "\n",
            " Análise Sintática:\n",
            "   Token Pos-Tag Dependência Cabeça da Dep\n",
            "0  Apple   PROPN       nsubj       looking\n",
            "\n",
            " Análise Sintática:\n",
            "   Token Pos-Tag Dependência Cabeça da Dep\n",
            "0  Apple   PROPN       nsubj       looking\n",
            "1     is     AUX         aux       looking\n",
            "\n",
            " Análise Sintática:\n",
            "     Token Pos-Tag Dependência Cabeça da Dep\n",
            "0    Apple   PROPN       nsubj       looking\n",
            "1       is     AUX         aux       looking\n",
            "2  looking    VERB        ROOT       looking\n",
            "\n",
            " Análise Sintática:\n",
            "     Token Pos-Tag Dependência Cabeça da Dep\n",
            "0    Apple   PROPN       nsubj       looking\n",
            "1       is     AUX         aux       looking\n",
            "2  looking    VERB        ROOT       looking\n",
            "3       at     ADP        prep       looking\n",
            "\n",
            " Análise Sintática:\n",
            "     Token Pos-Tag Dependência Cabeça da Dep\n",
            "0    Apple   PROPN       nsubj       looking\n",
            "1       is     AUX         aux       looking\n",
            "2  looking    VERB        ROOT       looking\n",
            "3       at     ADP        prep       looking\n",
            "4   buying    VERB       pcomp            at\n",
            "\n",
            " Análise Sintática:\n",
            "     Token Pos-Tag Dependência Cabeça da Dep\n",
            "0    Apple   PROPN       nsubj       looking\n",
            "1       is     AUX         aux       looking\n",
            "2  looking    VERB        ROOT       looking\n",
            "3       at     ADP        prep       looking\n",
            "4   buying    VERB       pcomp            at\n",
            "5     U.K.   PROPN       nsubj       startup\n",
            "\n",
            " Análise Sintática:\n",
            "     Token Pos-Tag Dependência Cabeça da Dep\n",
            "0    Apple   PROPN       nsubj       looking\n",
            "1       is     AUX         aux       looking\n",
            "2  looking    VERB        ROOT       looking\n",
            "3       at     ADP        prep       looking\n",
            "4   buying    VERB       pcomp            at\n",
            "5     U.K.   PROPN       nsubj       startup\n",
            "6  startup    VERB       ccomp        buying\n",
            "\n",
            " Análise Sintática:\n",
            "     Token Pos-Tag Dependência Cabeça da Dep\n",
            "0    Apple   PROPN       nsubj       looking\n",
            "1       is     AUX         aux       looking\n",
            "2  looking    VERB        ROOT       looking\n",
            "3       at     ADP        prep       looking\n",
            "4   buying    VERB       pcomp            at\n",
            "5     U.K.   PROPN       nsubj       startup\n",
            "6  startup    VERB       ccomp        buying\n",
            "7      for     ADP        prep       startup\n",
            "\n",
            " Análise Sintática:\n",
            "     Token Pos-Tag Dependência Cabeça da Dep\n",
            "0    Apple   PROPN       nsubj       looking\n",
            "1       is     AUX         aux       looking\n",
            "2  looking    VERB        ROOT       looking\n",
            "3       at     ADP        prep       looking\n",
            "4   buying    VERB       pcomp            at\n",
            "5     U.K.   PROPN       nsubj       startup\n",
            "6  startup    VERB       ccomp        buying\n",
            "7      for     ADP        prep       startup\n",
            "8        $     SYM    quantmod       billion\n",
            "\n",
            " Análise Sintática:\n",
            "     Token Pos-Tag Dependência Cabeça da Dep\n",
            "0    Apple   PROPN       nsubj       looking\n",
            "1       is     AUX         aux       looking\n",
            "2  looking    VERB        ROOT       looking\n",
            "3       at     ADP        prep       looking\n",
            "4   buying    VERB       pcomp            at\n",
            "5     U.K.   PROPN       nsubj       startup\n",
            "6  startup    VERB       ccomp        buying\n",
            "7      for     ADP        prep       startup\n",
            "8        $     SYM    quantmod       billion\n",
            "9        1     NUM    compound       billion\n",
            "\n",
            " Análise Sintática:\n",
            "      Token Pos-Tag Dependência Cabeça da Dep\n",
            "0     Apple   PROPN       nsubj       looking\n",
            "1        is     AUX         aux       looking\n",
            "2   looking    VERB        ROOT       looking\n",
            "3        at     ADP        prep       looking\n",
            "4    buying    VERB       pcomp            at\n",
            "5      U.K.   PROPN       nsubj       startup\n",
            "6   startup    VERB       ccomp        buying\n",
            "7       for     ADP        prep       startup\n",
            "8         $     SYM    quantmod       billion\n",
            "9         1     NUM    compound       billion\n",
            "10  billion     NUM        pobj           for\n",
            "\n",
            " Análise Sintática:\n",
            "      Token Pos-Tag Dependência Cabeça da Dep\n",
            "0     Apple   PROPN       nsubj       looking\n",
            "1        is     AUX         aux       looking\n",
            "2   looking    VERB        ROOT       looking\n",
            "3        at     ADP        prep       looking\n",
            "4    buying    VERB       pcomp            at\n",
            "5      U.K.   PROPN       nsubj       startup\n",
            "6   startup    VERB       ccomp        buying\n",
            "7       for     ADP        prep       startup\n",
            "8         $     SYM    quantmod       billion\n",
            "9         1     NUM    compound       billion\n",
            "10  billion     NUM        pobj           for\n",
            "11        .   PUNCT       punct       looking\n",
            "\n",
            " Análise Sintática:\n",
            "      Token Pos-Tag Dependência Cabeça da Dep\n",
            "0     Apple   PROPN       nsubj       looking\n",
            "1        is     AUX         aux       looking\n",
            "2   looking    VERB        ROOT       looking\n",
            "3        at     ADP        prep       looking\n",
            "4    buying    VERB       pcomp            at\n",
            "5      U.K.   PROPN       nsubj       startup\n",
            "6   startup    VERB       ccomp        buying\n",
            "7       for     ADP        prep       startup\n",
            "8         $     SYM    quantmod       billion\n",
            "9         1     NUM    compound       billion\n",
            "10  billion     NUM        pobj           for\n",
            "11        .   PUNCT       punct       looking\n",
            "12    Steve   PROPN    compound          Jobs\n",
            "\n",
            " Análise Sintática:\n",
            "      Token Pos-Tag Dependência Cabeça da Dep\n",
            "0     Apple   PROPN       nsubj       looking\n",
            "1        is     AUX         aux       looking\n",
            "2   looking    VERB        ROOT       looking\n",
            "3        at     ADP        prep       looking\n",
            "4    buying    VERB       pcomp            at\n",
            "5      U.K.   PROPN       nsubj       startup\n",
            "6   startup    VERB       ccomp        buying\n",
            "7       for     ADP        prep       startup\n",
            "8         $     SYM    quantmod       billion\n",
            "9         1     NUM    compound       billion\n",
            "10  billion     NUM        pobj           for\n",
            "11        .   PUNCT       punct       looking\n",
            "12    Steve   PROPN    compound          Jobs\n",
            "13     Jobs   PROPN       nsubj       founded\n",
            "\n",
            " Análise Sintática:\n",
            "      Token Pos-Tag Dependência Cabeça da Dep\n",
            "0     Apple   PROPN       nsubj       looking\n",
            "1        is     AUX         aux       looking\n",
            "2   looking    VERB        ROOT       looking\n",
            "3        at     ADP        prep       looking\n",
            "4    buying    VERB       pcomp            at\n",
            "5      U.K.   PROPN       nsubj       startup\n",
            "6   startup    VERB       ccomp        buying\n",
            "7       for     ADP        prep       startup\n",
            "8         $     SYM    quantmod       billion\n",
            "9         1     NUM    compound       billion\n",
            "10  billion     NUM        pobj           for\n",
            "11        .   PUNCT       punct       looking\n",
            "12    Steve   PROPN    compound          Jobs\n",
            "13     Jobs   PROPN       nsubj       founded\n",
            "14  founded    VERB        ROOT       founded\n",
            "\n",
            " Análise Sintática:\n",
            "      Token Pos-Tag Dependência Cabeça da Dep\n",
            "0     Apple   PROPN       nsubj       looking\n",
            "1        is     AUX         aux       looking\n",
            "2   looking    VERB        ROOT       looking\n",
            "3        at     ADP        prep       looking\n",
            "4    buying    VERB       pcomp            at\n",
            "5      U.K.   PROPN       nsubj       startup\n",
            "6   startup    VERB       ccomp        buying\n",
            "7       for     ADP        prep       startup\n",
            "8         $     SYM    quantmod       billion\n",
            "9         1     NUM    compound       billion\n",
            "10  billion     NUM        pobj           for\n",
            "11        .   PUNCT       punct       looking\n",
            "12    Steve   PROPN    compound          Jobs\n",
            "13     Jobs   PROPN       nsubj       founded\n",
            "14  founded    VERB        ROOT       founded\n",
            "15    Apple   PROPN        dobj       founded\n"
          ]
        }
      ]
    },
    {
      "cell_type": "code",
      "source": [
        "# 2. Reconhecimento de Entidades Nomeadas (NER)\n",
        "entities_data = []\n",
        "\n",
        "for ent in doc.ents:\n",
        "  entities_data.append({\n",
        "      \"Entidade\": ent.text,\n",
        "      \"Tipo\": ent.label_\n",
        "  })\n",
        "\n",
        "  # Convertendo para DataFrame\n",
        "  df_entities = pd.DataFrame(entities_data)\n",
        "  print(\"\\n Reconhecimento de Entidades:\")\n",
        "  print(df_entities)"
      ],
      "metadata": {
        "colab": {
          "base_uri": "https://localhost:8080/"
        },
        "id": "OQZRak1Vw6o6",
        "outputId": "0ab53eb1-a0a4-44c0-ab15-539edbe8bdc8"
      },
      "execution_count": null,
      "outputs": [
        {
          "output_type": "stream",
          "name": "stdout",
          "text": [
            "\n",
            " Reconhecimento de Entidades:\n",
            "  Entidade Tipo\n",
            "0    Apple  ORG\n",
            "\n",
            " Reconhecimento de Entidades:\n",
            "  Entidade Tipo\n",
            "0    Apple  ORG\n",
            "1     U.K.  GPE\n",
            "\n",
            " Reconhecimento de Entidades:\n",
            "     Entidade   Tipo\n",
            "0       Apple    ORG\n",
            "1        U.K.    GPE\n",
            "2  $1 billion  MONEY\n",
            "\n",
            " Reconhecimento de Entidades:\n",
            "     Entidade    Tipo\n",
            "0       Apple     ORG\n",
            "1        U.K.     GPE\n",
            "2  $1 billion   MONEY\n",
            "3  Steve Jobs  PERSON\n",
            "\n",
            " Reconhecimento de Entidades:\n",
            "     Entidade    Tipo\n",
            "0       Apple     ORG\n",
            "1        U.K.     GPE\n",
            "2  $1 billion   MONEY\n",
            "3  Steve Jobs  PERSON\n",
            "4       Apple     ORG\n"
          ]
        }
      ]
    },
    {
      "cell_type": "code",
      "source": [
        "# 3. Análise Semântica com WordNet\n",
        "semantic_data = []\n",
        "\n",
        "for token in doc:\n",
        "  synsets = wn.synsets(token.text)\n",
        "  if synsets:\n",
        "    semantic_data.append({\n",
        "        \"Palavra\": token.text,\n",
        "        \"Significado\": synsets[0].definition(),\n",
        "        \"Exemplo\": synsets[0].examples()\n",
        "    })\n",
        "\n",
        "    # Convertendo para DataFrame\n",
        "    df_semantic = pd.DataFrame(semantic_data)\n",
        "    print(\"\\n Análise Semântica:\")\n",
        "    print(df_semantic)"
      ],
      "metadata": {
        "colab": {
          "base_uri": "https://localhost:8080/"
        },
        "id": "VvJFfUjCw-JV",
        "outputId": "794960fd-4b1e-4905-be15-e83bf500901b"
      },
      "execution_count": null,
      "outputs": [
        {
          "output_type": "stream",
          "name": "stdout",
          "text": [
            "\n",
            " Análise Semântica:\n",
            "  Palavra                                        Significado Exemplo\n",
            "0   Apple  fruit with red or yellow or green skin and swe...      []\n",
            "\n",
            " Análise Semântica:\n",
            "  Palavra                                        Significado  \\\n",
            "0   Apple  fruit with red or yellow or green skin and swe...   \n",
            "1      is  have the quality of being; (copula, used with ...   \n",
            "\n",
            "                                     Exemplo  \n",
            "0                                         []  \n",
            "1  [John is rich, This is not a good answer]  \n",
            "\n",
            " Análise Semântica:\n",
            "   Palavra                                        Significado  \\\n",
            "0    Apple  fruit with red or yellow or green skin and swe...   \n",
            "1       is  have the quality of being; (copula, used with ...   \n",
            "2  looking  the act of directing the eyes toward something...   \n",
            "\n",
            "                                             Exemplo  \n",
            "0                                                 []  \n",
            "1          [John is rich, This is not a good answer]  \n",
            "2  [he went out to have a look, his look was fixe...  \n",
            "\n",
            " Análise Semântica:\n",
            "   Palavra                                        Significado  \\\n",
            "0    Apple  fruit with red or yellow or green skin and swe...   \n",
            "1       is  have the quality of being; (copula, used with ...   \n",
            "2  looking  the act of directing the eyes toward something...   \n",
            "3       at  a highly unstable radioactive element (the hea...   \n",
            "\n",
            "                                             Exemplo  \n",
            "0                                                 []  \n",
            "1          [John is rich, This is not a good answer]  \n",
            "2  [he went out to have a look, his look was fixe...  \n",
            "3                                                 []  \n",
            "\n",
            " Análise Semântica:\n",
            "   Palavra                                        Significado  \\\n",
            "0    Apple  fruit with red or yellow or green skin and swe...   \n",
            "1       is  have the quality of being; (copula, used with ...   \n",
            "2  looking  the act of directing the eyes toward something...   \n",
            "3       at  a highly unstable radioactive element (the hea...   \n",
            "4   buying                                  the act of buying   \n",
            "\n",
            "                                             Exemplo  \n",
            "0                                                 []  \n",
            "1          [John is rich, This is not a good answer]  \n",
            "2  [he went out to have a look, his look was fixe...  \n",
            "3                                                 []  \n",
            "4  [buying and selling fill their days, shrewd pu...  \n",
            "\n",
            " Análise Semântica:\n",
            "   Palavra                                        Significado  \\\n",
            "0    Apple  fruit with red or yellow or green skin and swe...   \n",
            "1       is  have the quality of being; (copula, used with ...   \n",
            "2  looking  the act of directing the eyes toward something...   \n",
            "3       at  a highly unstable radioactive element (the hea...   \n",
            "4   buying                                  the act of buying   \n",
            "5     U.K.  a monarchy in northwestern Europe occupying mo...   \n",
            "\n",
            "                                             Exemplo  \n",
            "0                                                 []  \n",
            "1          [John is rich, This is not a good answer]  \n",
            "2  [he went out to have a look, his look was fixe...  \n",
            "3                                                 []  \n",
            "4  [buying and selling fill their days, shrewd pu...  \n",
            "5                                                 []  \n",
            "\n",
            " Análise Semântica:\n",
            "   Palavra                                        Significado  \\\n",
            "0    Apple  fruit with red or yellow or green skin and swe...   \n",
            "1       is  have the quality of being; (copula, used with ...   \n",
            "2  looking  the act of directing the eyes toward something...   \n",
            "3       at  a highly unstable radioactive element (the hea...   \n",
            "4   buying                                  the act of buying   \n",
            "5     U.K.  a monarchy in northwestern Europe occupying mo...   \n",
            "6  startup                    the act of setting in operation   \n",
            "\n",
            "                                             Exemplo  \n",
            "0                                                 []  \n",
            "1          [John is rich, This is not a good answer]  \n",
            "2  [he went out to have a look, his look was fixe...  \n",
            "3                                                 []  \n",
            "4  [buying and selling fill their days, shrewd pu...  \n",
            "5                                                 []  \n",
            "6    [repeated shutdowns and startups are expensive]  \n",
            "\n",
            " Análise Semântica:\n",
            "   Palavra                                        Significado  \\\n",
            "0    Apple  fruit with red or yellow or green skin and swe...   \n",
            "1       is  have the quality of being; (copula, used with ...   \n",
            "2  looking  the act of directing the eyes toward something...   \n",
            "3       at  a highly unstable radioactive element (the hea...   \n",
            "4   buying                                  the act of buying   \n",
            "5     U.K.  a monarchy in northwestern Europe occupying mo...   \n",
            "6  startup                    the act of setting in operation   \n",
            "7        1  the smallest whole number or a numeral represe...   \n",
            "\n",
            "                                             Exemplo  \n",
            "0                                                 []  \n",
            "1          [John is rich, This is not a good answer]  \n",
            "2  [he went out to have a look, his look was fixe...  \n",
            "3                                                 []  \n",
            "4  [buying and selling fill their days, shrewd pu...  \n",
            "5                                                 []  \n",
            "6    [repeated shutdowns and startups are expensive]  \n",
            "7  [he has the one but will need a two and three ...  \n",
            "\n",
            " Análise Semântica:\n",
            "   Palavra                                        Significado  \\\n",
            "0    Apple  fruit with red or yellow or green skin and swe...   \n",
            "1       is  have the quality of being; (copula, used with ...   \n",
            "2  looking  the act of directing the eyes toward something...   \n",
            "3       at  a highly unstable radioactive element (the hea...   \n",
            "4   buying                                  the act of buying   \n",
            "5     U.K.  a monarchy in northwestern Europe occupying mo...   \n",
            "6  startup                    the act of setting in operation   \n",
            "7        1  the smallest whole number or a numeral represe...   \n",
            "8  billion  the number that is represented as a one follow...   \n",
            "\n",
            "                                             Exemplo  \n",
            "0                                                 []  \n",
            "1          [John is rich, This is not a good answer]  \n",
            "2  [he went out to have a look, his look was fixe...  \n",
            "3                                                 []  \n",
            "4  [buying and selling fill their days, shrewd pu...  \n",
            "5                                                 []  \n",
            "6    [repeated shutdowns and startups are expensive]  \n",
            "7  [he has the one but will need a two and three ...  \n",
            "8                                                 []  \n",
            "\n",
            " Análise Semântica:\n",
            "   Palavra                                        Significado  \\\n",
            "0    Apple  fruit with red or yellow or green skin and swe...   \n",
            "1       is  have the quality of being; (copula, used with ...   \n",
            "2  looking  the act of directing the eyes toward something...   \n",
            "3       at  a highly unstable radioactive element (the hea...   \n",
            "4   buying                                  the act of buying   \n",
            "5     U.K.  a monarchy in northwestern Europe occupying mo...   \n",
            "6  startup                    the act of setting in operation   \n",
            "7        1  the smallest whole number or a numeral represe...   \n",
            "8  billion  the number that is represented as a one follow...   \n",
            "9     Jobs  the principal activity in your life that you d...   \n",
            "\n",
            "                                             Exemplo  \n",
            "0                                                 []  \n",
            "1          [John is rich, This is not a good answer]  \n",
            "2  [he went out to have a look, his look was fixe...  \n",
            "3                                                 []  \n",
            "4  [buying and selling fill their days, shrewd pu...  \n",
            "5                                                 []  \n",
            "6    [repeated shutdowns and startups are expensive]  \n",
            "7  [he has the one but will need a two and three ...  \n",
            "8                                                 []  \n",
            "9                  [he's not in my line of business]  \n",
            "\n",
            " Análise Semântica:\n",
            "    Palavra                                        Significado  \\\n",
            "0     Apple  fruit with red or yellow or green skin and swe...   \n",
            "1        is  have the quality of being; (copula, used with ...   \n",
            "2   looking  the act of directing the eyes toward something...   \n",
            "3        at  a highly unstable radioactive element (the hea...   \n",
            "4    buying                                  the act of buying   \n",
            "5      U.K.  a monarchy in northwestern Europe occupying mo...   \n",
            "6   startup                    the act of setting in operation   \n",
            "7         1  the smallest whole number or a numeral represe...   \n",
            "8   billion  the number that is represented as a one follow...   \n",
            "9      Jobs  the principal activity in your life that you d...   \n",
            "10  founded                                    set up or found   \n",
            "\n",
            "                                              Exemplo  \n",
            "0                                                  []  \n",
            "1           [John is rich, This is not a good answer]  \n",
            "2   [he went out to have a look, his look was fixe...  \n",
            "3                                                  []  \n",
            "4   [buying and selling fill their days, shrewd pu...  \n",
            "5                                                  []  \n",
            "6     [repeated shutdowns and startups are expensive]  \n",
            "7   [he has the one but will need a two and three ...  \n",
            "8                                                  []  \n",
            "9                   [he's not in my line of business]  \n",
            "10                    [She set up a literacy program]  \n",
            "\n",
            " Análise Semântica:\n",
            "    Palavra                                        Significado  \\\n",
            "0     Apple  fruit with red or yellow or green skin and swe...   \n",
            "1        is  have the quality of being; (copula, used with ...   \n",
            "2   looking  the act of directing the eyes toward something...   \n",
            "3        at  a highly unstable radioactive element (the hea...   \n",
            "4    buying                                  the act of buying   \n",
            "5      U.K.  a monarchy in northwestern Europe occupying mo...   \n",
            "6   startup                    the act of setting in operation   \n",
            "7         1  the smallest whole number or a numeral represe...   \n",
            "8   billion  the number that is represented as a one follow...   \n",
            "9      Jobs  the principal activity in your life that you d...   \n",
            "10  founded                                    set up or found   \n",
            "11    Apple  fruit with red or yellow or green skin and swe...   \n",
            "\n",
            "                                              Exemplo  \n",
            "0                                                  []  \n",
            "1           [John is rich, This is not a good answer]  \n",
            "2   [he went out to have a look, his look was fixe...  \n",
            "3                                                  []  \n",
            "4   [buying and selling fill their days, shrewd pu...  \n",
            "5                                                  []  \n",
            "6     [repeated shutdowns and startups are expensive]  \n",
            "7   [he has the one but will need a two and three ...  \n",
            "8                                                  []  \n",
            "9                   [he's not in my line of business]  \n",
            "10                    [She set up a literacy program]  \n",
            "11                                                 []  \n"
          ]
        }
      ]
    }
  ]
}