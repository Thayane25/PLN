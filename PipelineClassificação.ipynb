{
  "nbformat": 4,
  "nbformat_minor": 0,
  "metadata": {
    "colab": {
      "provenance": [],
      "authorship_tag": "ABX9TyMDK4YDJxdGfhZem83h8qrO",
      "include_colab_link": true
    },
    "kernelspec": {
      "name": "python3",
      "display_name": "Python 3"
    },
    "language_info": {
      "name": "python"
    }
  },
  "cells": [
    {
      "cell_type": "markdown",
      "metadata": {
        "id": "view-in-github",
        "colab_type": "text"
      },
      "source": [
        "<a href=\"https://colab.research.google.com/github/Thayane25/PLN/blob/main/PipelineClassifica%C3%A7%C3%A3o.ipynb\" target=\"_parent\"><img src=\"https://colab.research.google.com/assets/colab-badge.svg\" alt=\"Open In Colab\"/></a>"
      ]
    },
    {
      "cell_type": "markdown",
      "source": [
        "# RP01 - Pipeline de Classificação de Texto"
      ],
      "metadata": {
        "id": "p9RQVr5kT5_C"
      }
    },
    {
      "cell_type": "markdown",
      "source": [
        "## - Elaboração de roteiro apresentado em aula"
      ],
      "metadata": {
        "id": "3ZKRJP2wWFFk"
      }
    },
    {
      "cell_type": "markdown",
      "source": [
        "## 01 - Criação da base de dados a ser utilizada"
      ],
      "metadata": {
        "id": "EUR01C5iXKb2"
      }
    },
    {
      "cell_type": "code",
      "execution_count": 51,
      "metadata": {
        "colab": {
          "base_uri": "https://localhost:8080/"
        },
        "id": "1VK2iJ4Jor-J",
        "outputId": "5eb8b4ae-34d9-4f3f-ddc1-229b2c463b8e"
      },
      "outputs": [
        {
          "output_type": "stream",
          "name": "stdout",
          "text": [
            "Base de dados criada e salva em arquivo csv 'dados_rotulados.csv'\n"
          ]
        }
      ],
      "source": [
        "#Criando a base de dados que vamos usar\n",
        "import pandas as pd\n",
        "\n",
        "#dicionário com dados de exemplo\n",
        "data = {\n",
        "    'texto': [\n",
        "        \"Este é um ótimo filme!\",\n",
        "        \"O produto é muito ruim.\",\n",
        "        \"Adorei o atendimento ao cliente.\",\n",
        "        \"A entrega atrasou e o produto veio com defeito.\",\n",
        "        \"Recomendo este livro a todos\",\n",
        "        \"Não gostei da experiência\",\n",
        "        \"O serviço foi excelente\",\n",
        "        \"Péssima qualidade, não comprem\",\n",
        "        \"Amei o presente, obrigado!\",\n",
        "        \"Que decepção, perdi meu dinheiro.\"\n",
        "    ],\n",
        "    'categoria': [\n",
        "        \"positivo\",\n",
        "        \"negativo\",\n",
        "        \"positivo\",\n",
        "        \"negativo\",\n",
        "        \"positivo\",\n",
        "        \"negativo\",\n",
        "        \"positivo\",\n",
        "        \"negativo\",\n",
        "        \"positivo\",\n",
        "        \"negativo\"\n",
        "    ]\n",
        "}\n",
        "\n",
        "#criar um DataFrame a partir do dicionário\n",
        "df = pd.DataFrame(data)\n",
        "\n",
        "#Salvar o DataFrame em um arquivo csv\n",
        "df.to_csv('dados_rotulados.csv', index=False, encoding='utf-8')\n",
        "\n",
        "print(\"Base de dados criada e salva em arquivo csv 'dados_rotulados.csv'\")"
      ]
    },
    {
      "cell_type": "markdown",
      "source": [
        "## 02 - Preparação dos dados"
      ],
      "metadata": {
        "id": "Yt2QoiUKXTj9"
      }
    },
    {
      "cell_type": "code",
      "source": [
        "# Passo 1: importar as bibliotecas necessárioas\n",
        "import nltk\n",
        "import spacy\n",
        "import sklearn\n",
        "import pandas as pd\n",
        "import matplotlib.pyplot as plt\n",
        "import string\n",
        "from nltk.corpus import stopwords\n",
        "from nltk.tokenize import word_tokenize\n",
        "from nltk.stem import SnowballStemmer\n",
        "from sklearn.model_selection import train_test_split\n",
        "\n",
        "nltk.download('stopwords')\n",
        "nltk.download('punkt_tab')"
      ],
      "metadata": {
        "colab": {
          "base_uri": "https://localhost:8080/"
        },
        "id": "5HanVJp_Xs6b",
        "outputId": "ad1e4d6d-1dd0-4c23-a4c8-a28b4f97b7c7"
      },
      "execution_count": 52,
      "outputs": [
        {
          "output_type": "stream",
          "name": "stderr",
          "text": [
            "[nltk_data] Downloading package stopwords to /root/nltk_data...\n",
            "[nltk_data]   Package stopwords is already up-to-date!\n",
            "[nltk_data] Downloading package punkt_tab to /root/nltk_data...\n",
            "[nltk_data]   Package punkt_tab is already up-to-date!\n"
          ]
        },
        {
          "output_type": "execute_result",
          "data": {
            "text/plain": [
              "True"
            ]
          },
          "metadata": {},
          "execution_count": 52
        }
      ]
    },
    {
      "cell_type": "code",
      "source": [
        "from tkinter.constants import Y\n",
        "from re import X\n",
        "# Passo 2: Carregar o conjunto de dados de texto rotulado\n",
        "data = pd.read_csv('dados_rotulados.csv', encoding='utf-8')\n",
        "\n",
        "# Passo 3: Explorar e visualizar os dados\n",
        "print(\"Informações do conjunto de dados:\")\n",
        "print(data.info())\n",
        "\n",
        "print(\"\\nPrimeiras 5 linhas do conjunto de dados:\")\n",
        "print(data.head())\n",
        "\n",
        "# Distribuição das categorias\n",
        "plt.figure(figsize=(10, 5))\n",
        "data['categoria'].value_counts().plot(kind='bar')\n",
        "plt.title('Distribuição das Categorias')\n",
        "plt.xlabel('Categoria')\n",
        "plt.ylabel('Contagem')\n",
        "plt.show()\n",
        "\n",
        "# Tamanho dos textos\n",
        "tamanhos_textos = data['texto'].apply(len)\n",
        "plt.figure(figsize=(10, 5))\n",
        "plt.hist(tamanhos_textos, bins=50)\n",
        "plt.title('Tamanho dos Textos')\n",
        "plt.xlabel('Tamanho do Texto')\n",
        "plt.ylabel('Frequência')\n",
        "plt.show()\n",
        "\n",
        "# Passo 4: Realizar o pré processamento do texto\n",
        "def preprocessar_texto(texto):\n",
        "  # Limpar o texto\n",
        "  texto = texto.translate(str.maketrans('','', string.punctuation))\n",
        "  texto = ''.join([c for c in texto if not c.isdigit()])\n",
        "\n",
        "  # Tokenizar o texto\n",
        "  tokens = word_tokenize(texto.lower())\n",
        "\n",
        "  # Remover stopwords\n",
        "  stop_words = set(stopwords.words('portuguese'))\n",
        "  tokens = [palavra for palavra in tokens if palavra not in stop_words]\n",
        "\n",
        "  # Aplicar stemming ou lematização\n",
        "  stemmer = SnowballStemmer('portuguese')\n",
        "  tokens = [stemmer.stem(palavra) for palavra in tokens]\n",
        "  return ' '.join(tokens)\n",
        "\n",
        "# Aplicar a função de pré-processamento à coluna 'texto' do DataFrame.\n",
        "data['texto_processado'] = data['texto'].apply(preprocessar_texto)\n",
        "\n",
        "# Passo 5: Dividor os dados em conjuntos de treinamento e teste\n",
        "# Dividir o conjunto de dados em conjuntos de treinamento e teste.\n",
        "# O conjunto de treinamento será usado para treinar o modelo de classificação\n",
        "# o conjunto de teste será usado para avaliar o desempenho do modelo.\n",
        "X_train, X_test, Y_train, Y_test = train_test_split(\n",
        "    data['texto_processado'], data['categoria'], test_size=0.2, random_state=42)\n",
        "\n",
        "# Exibir o tamanho dos conjuntos de treinamento e teste.\n",
        "print(\"\\nTamanho do conjunto de treinamento:\", len(X_train))\n",
        "print(\"Tamanho do conjunto de teste:\", len(X_test))"
      ],
      "metadata": {
        "colab": {
          "base_uri": "https://localhost:8080/",
          "height": 1000
        },
        "id": "1xzlqwp2X_ww",
        "outputId": "757760a8-7bfc-427c-a843-a6a44fc1fac6"
      },
      "execution_count": 53,
      "outputs": [
        {
          "output_type": "stream",
          "name": "stdout",
          "text": [
            "Informações do conjunto de dados:\n",
            "<class 'pandas.core.frame.DataFrame'>\n",
            "RangeIndex: 10 entries, 0 to 9\n",
            "Data columns (total 2 columns):\n",
            " #   Column     Non-Null Count  Dtype \n",
            "---  ------     --------------  ----- \n",
            " 0   texto      10 non-null     object\n",
            " 1   categoria  10 non-null     object\n",
            "dtypes: object(2)\n",
            "memory usage: 292.0+ bytes\n",
            "None\n",
            "\n",
            "Primeiras 5 linhas do conjunto de dados:\n",
            "                                             texto categoria\n",
            "0                           Este é um ótimo filme!  positivo\n",
            "1                          O produto é muito ruim.  negativo\n",
            "2                 Adorei o atendimento ao cliente.  positivo\n",
            "3  A entrega atrasou e o produto veio com defeito.  negativo\n",
            "4                     Recomendo este livro a todos  positivo\n"
          ]
        },
        {
          "output_type": "display_data",
          "data": {
            "text/plain": [
              "<Figure size 1000x500 with 1 Axes>"
            ],
            "image/png": "[encoded data removed]"
          },
          "metadata": {}
        },
        {
          "output_type": "display_data",
          "data": {
            "text/plain": [
              "<Figure size 1000x500 with 1 Axes>"
            ],
            "image/png": "[encoded data removed]"
          },
          "metadata": {}
        },
        {
          "output_type": "stream",
          "name": "stdout",
          "text": [
            "\n",
            "Tamanho do conjunto de treinamento: 8\n",
            "Tamanho do conjunto de teste: 2\n"
          ]
        }
      ]
    },
    {
      "cell_type": "markdown",
      "source": [
        "## 03 - Extração de Características"
      ],
      "metadata": {
        "id": "0uIfjJgjYIb_"
      }
    },
    {
      "cell_type": "code",
      "source": [
        "# Importação das bibliotecas a serem utilizadas\n",
        "from sklearn.feature_extraction.text import TfidfVectorizer\n",
        "from sklearn.naive_bayes import MultinomialNB\n",
        "from sklearn.metrics import accuracy_score, classification_report\n",
        "\n",
        "# Etapa 3: Extração de características\n",
        "# Converter os textos pré-processados em representações numéricas usando TFF-IDF.\n",
        "# TF-IDF é uma técnica que pondera a importância de cada palavra em um documento\n",
        "# em relação à sua frequência em todo o conjunto de documentos.\n",
        "vectorizer = TfidfVectorizer()\n",
        "X_train_tfidf = vectorizer.fit_transform(X_train)\n",
        "X_test_tfidf = vectorizer.transform(X_test)\n",
        "\n",
        "# Exibir o número de características extraídas.\n",
        "print(\"\\nNúmero de características extraídas:\", X_train_tfidf.shape[1])\n",
        "\n",
        "# Etapa 4: Treinamento do modelo\n",
        "# Treina um modelo de classificação Naive Bayes Multinomial usando os dados de treinamento.\n",
        "# Naive Bayes é um algoritmo simples e eficaz para classificação de texto.\n",
        "modelo = MultinomialNB()\n",
        "modelo.fit(X_train_tfidf, Y_train)\n",
        "\n",
        "# Etapa 5: Avaliação do modelo\n",
        "# Avalia o desempenho do modelo usando o conjunto de teste.\n",
        "# Calcula a acurácia e exibe um relatório de classificação detalhado.\n",
        "Y_pred = modelo.predict(X_test_tfidf)\n",
        "acuracia = accuracy_score(Y_test, Y_pred)\n",
        "print(\"\\nAcurácia do modelo:\", acuracia)\n",
        "print(\"\\nRelatório de Classificação:\\n\", classification_report(Y_test, Y_pred))\n",
        "\n",
        "# Etapa 6: Classificação de um novo texto\n",
        "# Definir uma função para classificar um novo texto usando o modelo treinado.\n",
        "def classificar_texto(texto, vectorizer, modelo):\n",
        "  # Preprocessar o texto de entrada\n",
        "  texto_processado = preprocessar_texto(texto)\n",
        "  # Converter o texto pré-processado em um vetor TF-IDF\n",
        "  texto_tfidf = vectorizer.transform([texto_processado])\n",
        "  # Classificar o texto usando o modelo treinado\n",
        "  categoria_prevista = modelo.predict(texto_tfidf)[0]\n",
        "  # (Opcional) Obter as probabilidades de cada categoria\n",
        "  probabilidades = modelo.predict_proba(texto_tfidf)[0]\n",
        "  categorias = modelo.classes_\n",
        "  probabilidades_por_categoria = dict(zip(categorias, probabilidades))\n",
        "  return categoria_prevista, probabilidades_por_categoria\n",
        "\n",
        "# Exemplo de uso da função para classificar um novo texto\n",
        "novo_texto = \"Este filme é incrível, recomento a todos!\"\n",
        "categoria, probabilidades = classificar_texto(novo_texto, vectorizer, modelo)\n",
        "print(\"\\nNovo texto:\", novo_texto)\n",
        "print(\"Categoria prevista\", categoria)\n",
        "print(\"Probabilidades por categoria:\", probabilidades)"
      ],
      "metadata": {
        "colab": {
          "base_uri": "https://localhost:8080/"
        },
        "id": "uNlayWsEYHw8",
        "outputId": "c36f19c6-2dae-473b-be87-2b7e57c28292"
      },
      "execution_count": 54,
      "outputs": [
        {
          "output_type": "stream",
          "name": "stdout",
          "text": [
            "\n",
            "Número de características extraídas: 23\n",
            "\n",
            "Acurácia do modelo: 0.5\n",
            "\n",
            "Relatório de Classificação:\n",
            "               precision    recall  f1-score   support\n",
            "\n",
            "    negativo       0.50      1.00      0.67         1\n",
            "    positivo       0.00      0.00      0.00         1\n",
            "\n",
            "    accuracy                           0.50         2\n",
            "   macro avg       0.25      0.50      0.33         2\n",
            "weighted avg       0.25      0.50      0.33         2\n",
            "\n",
            "\n",
            "Novo texto: Este filme é incrível, recomento a todos!\n",
            "Categoria prevista positivo\n",
            "Probabilidades por categoria: {np.str_('negativo'): np.float64(0.323101692144177), np.str_('positivo'): np.float64(0.676898307855823)}\n"
          ]
        },
        {
          "output_type": "stream",
          "name": "stderr",
          "text": [
            "/usr/local/lib/python3.11/dist-packages/sklearn/metrics/_classification.py:1565: UndefinedMetricWarning: Precision is ill-defined and being set to 0.0 in labels with no predicted samples. Use `zero_division` parameter to control this behavior.\n",
            "  _warn_prf(average, modifier, f\"{metric.capitalize()} is\", len(result))\n",
            "/usr/local/lib/python3.11/dist-packages/sklearn/metrics/_classification.py:1565: UndefinedMetricWarning: Precision is ill-defined and being set to 0.0 in labels with no predicted samples. Use `zero_division` parameter to control this behavior.\n",
            "  _warn_prf(average, modifier, f\"{metric.capitalize()} is\", len(result))\n",
            "/usr/local/lib/python3.11/dist-packages/sklearn/metrics/_classification.py:1565: UndefinedMetricWarning: Precision is ill-defined and being set to 0.0 in labels with no predicted samples. Use `zero_division` parameter to control this behavior.\n",
            "  _warn_prf(average, modifier, f\"{metric.capitalize()} is\", len(result))\n"
          ]
        }
      ]
    },
    {
      "cell_type": "markdown",
      "source": [
        "## Etapa 4 - Treinamento do Modelo"
      ],
      "metadata": {
        "id": "erybpG9WYfwU"
      }
    },
    {
      "cell_type": "code",
      "source": [
        "# Importação das ferramentas utilizadas\n",
        "from sklearn.linear_model import LogisticRegression\n",
        "from sklearn.svm import SVC\n",
        "from sklearn.model_selection import GridSearchCV\n",
        "\n",
        "# Etapa 4: Treinamento do modelo\n",
        "# Passo 1: Escolher um ou mais modelos de aprendizado de máquina para classificação\n",
        "# (Naive Bayes, Regressão Logística, SVM, Transformers).\n",
        "# Neste código, serão utilizados Naive Bayes, Regressão Logística e SVM.\n",
        "# Passo 2: Instanciar os modelos\n",
        "# Instancia os modelos de aprendizado de máquina.\n",
        "naive_bayes_model = MultinomialNB()\n",
        "logistic_regression_model = LogisticRegression(random_state=42)\n",
        "svm_model = SVC(random_state=42, probability=True)\n",
        "\n",
        "# Passo 3: Treinar os modelos usando os dados de treinamento e as representações de texto extraídas\n",
        "# Treinar os modelos com os dados de treinamento e as representações TF-IDF.\n",
        "naive_bayes_model.fit(X_train_tfidf, Y_train)\n",
        "logistic_regression_model.fit(X_train_tfidf, Y_train)\n",
        "svm_model.fit(X_train_tfidf, Y_train)\n",
        "\n",
        "# Passo 4: Ajustar os hiperparâmetros dos modelos usando validação cruzada (opcional)\n",
        "# Definir os hiperparâmetros a serem ajustados para cada modelo.\n",
        "param_grid_nb = {}  # Naive Bayes não possui hiperparâmetros significativos para ajustar\n",
        "param_grid_lr = {'C': [0.1, 1, 10], 'solver': ['liblinear', 'lbfgs']}\n",
        "param_grid_svm = {'C': [0.1, 1, 10], 'kernel': ['linear', 'rbf']}\n",
        "\n",
        "# Realizar a busca em grade com validação cruzada para encontrar os melhores hiperparâmetros.\n",
        "grid_search_lr = GridSearchCV(logistic_regression_model, param_grid_lr, cv=2)\n",
        "grid_search_svm = GridSearchCV(svm_model, param_grid_svm, cv=2)\n",
        "\n",
        "grid_search_lr.fit(X_train_tfidf, Y_train)\n",
        "grid_search_svm.fit(X_train_tfidf, Y_train)\n",
        "\n",
        "# Imprimir os melhores hiperparâmetros encontrados.\n",
        "print(\"\\nMelhores hiperparâmetros para Regressão Logística:\", grid_search_lr.best_params_)\n",
        "print(\"Melhores hiperparâmetros para SVM:\", grid_search_svm.best_params_)\n",
        "\n",
        "# Obter os modelos com os melhores hiperparâmetros.\n",
        "best_logistic_regression_model = grid_search_lr.best_estimator_\n",
        "best_svm_model = grid_search_svm.best_estimator_\n",
        "\n",
        "# Passo 4: Avaliação do modelo\n",
        "# Avaliar o desempenho dos modelos usando o conjunto de teste.\n",
        "# Calcular a acurácia e exibe um relatório de classificação detalhado para cada modelo.\n",
        "print(\"\\nResultados da avaliação:\")\n",
        "\n",
        "# Avaliação do modelo Naive Bayes\n",
        "Y_pred_nb = naive_bayes_model.predict(X_test_tfidf)\n",
        "acuracia_nb = accuracy_score(Y_test, Y_pred_nb)\n",
        "print(\"\\nNaive Bayes Multinomial:\")\n",
        "print(\"Acurácia:\", acuracia_nb)\n",
        "print(\"Relatório de Classificação:\\n\", classification_report(Y_test, Y_pred_nb))\n",
        "\n",
        "# Avaliação do modelo de Regressão Logística\n",
        "Y_pred_lr = best_logistic_regression_model.predict(X_test_tfidf)\n",
        "acuracia_lr = accuracy_score(Y_test, Y_pred_lr)\n",
        "print(\"\\nRegressão Logística:\")\n",
        "print(\"Acurácia:\", acuracia_lr)\n",
        "print(\"Relatório de Classificação:\\n\", classification_report(Y_test, Y_pred_lr))\n",
        "\n",
        "# Avaliação do modelo SVM\n",
        "Y_pred_svm = best_svm_model.predict(X_test_tfidf)\n",
        "acuracia_svm = accuracy_score(Y_test, Y_pred_svm)\n",
        "print(\"\\nSVM:\")\n",
        "print(\"Acurácia:\", acuracia_svm)\n",
        "print(\"Relatório de Classificação:\\n\", classification_report(Y_test, Y_pred_svm))\n",
        "\n",
        "# Passo 5: Classificação de um novo texto\n",
        "# Definir uma função para classificar um novo texto usando o modelo treinado.\n",
        "def classificar_texto(texto, vectorizer, modelo):\n",
        "    # Preprocessa o texto de entrada\n",
        "    texto_processado = preprocessar_texto(texto)\n",
        "    # Converte o texto pré-processado em um vetor TF-IDF\n",
        "    texto_tfidf = vectorizer.transform([texto_processado])\n",
        "    # Classifica o texto usando o modelo treinado\n",
        "    categoria_prevista = modelo.predict(texto_tfidf)[0]\n",
        "    # (Opcional) Obtém as probabilidades de cada categoria\n",
        "    probabilidades = modelo.predict_proba(texto_tfidf)[0]\n",
        "    categorias = modelo.classes_\n",
        "    probabilidades_por_categoria = dict(zip(categorias, probabilidades))\n",
        "\n",
        "    return categoria_prevista, probabilidades_por_categoria"
      ],
      "metadata": {
        "colab": {
          "base_uri": "https://localhost:8080/"
        },
        "id": "RnxDH2ZvW4CL",
        "outputId": "d8c978fc-d89a-49ed-ebde-95ae9f93977a"
      },
      "execution_count": 55,
      "outputs": [
        {
          "output_type": "stream",
          "name": "stdout",
          "text": [
            "\n",
            "Melhores hiperparâmetros para Regressão Logística: {'C': 0.1, 'solver': 'liblinear'}\n",
            "Melhores hiperparâmetros para SVM: {'C': 1, 'kernel': 'rbf'}\n",
            "\n",
            "Resultados da avaliação:\n",
            "\n",
            "Naive Bayes Multinomial:\n",
            "Acurácia: 0.5\n",
            "Relatório de Classificação:\n",
            "               precision    recall  f1-score   support\n",
            "\n",
            "    negativo       0.50      1.00      0.67         1\n",
            "    positivo       0.00      0.00      0.00         1\n",
            "\n",
            "    accuracy                           0.50         2\n",
            "   macro avg       0.25      0.50      0.33         2\n",
            "weighted avg       0.25      0.50      0.33         2\n",
            "\n",
            "\n",
            "Regressão Logística:\n",
            "Acurácia: 0.5\n",
            "Relatório de Classificação:\n",
            "               precision    recall  f1-score   support\n",
            "\n",
            "    negativo       0.50      1.00      0.67         1\n",
            "    positivo       0.00      0.00      0.00         1\n",
            "\n",
            "    accuracy                           0.50         2\n",
            "   macro avg       0.25      0.50      0.33         2\n",
            "weighted avg       0.25      0.50      0.33         2\n",
            "\n",
            "\n",
            "SVM:\n",
            "Acurácia: 1.0\n"
          ]
        },
        {
          "output_type": "stream",
          "name": "stderr",
          "text": [
            "/usr/local/lib/python3.11/dist-packages/sklearn/metrics/_classification.py:1565: UndefinedMetricWarning: Precision is ill-defined and being set to 0.0 in labels with no predicted samples. Use `zero_division` parameter to control this behavior.\n",
            "  _warn_prf(average, modifier, f\"{metric.capitalize()} is\", len(result))\n",
            "/usr/local/lib/python3.11/dist-packages/sklearn/metrics/_classification.py:1565: UndefinedMetricWarning: Precision is ill-defined and being set to 0.0 in labels with no predicted samples. Use `zero_division` parameter to control this behavior.\n",
            "  _warn_prf(average, modifier, f\"{metric.capitalize()} is\", len(result))\n",
            "/usr/local/lib/python3.11/dist-packages/sklearn/metrics/_classification.py:1565: UndefinedMetricWarning: Precision is ill-defined and being set to 0.0 in labels with no predicted samples. Use `zero_division` parameter to control this behavior.\n",
            "  _warn_prf(average, modifier, f\"{metric.capitalize()} is\", len(result))\n",
            "/usr/local/lib/python3.11/dist-packages/sklearn/metrics/_classification.py:1565: UndefinedMetricWarning: Precision is ill-defined and being set to 0.0 in labels with no predicted samples. Use `zero_division` parameter to control this behavior.\n",
            "  _warn_prf(average, modifier, f\"{metric.capitalize()} is\", len(result))\n",
            "/usr/local/lib/python3.11/dist-packages/sklearn/metrics/_classification.py:1565: UndefinedMetricWarning: Precision is ill-defined and being set to 0.0 in labels with no predicted samples. Use `zero_division` parameter to control this behavior.\n",
            "  _warn_prf(average, modifier, f\"{metric.capitalize()} is\", len(result))\n",
            "/usr/local/lib/python3.11/dist-packages/sklearn/metrics/_classification.py:1565: UndefinedMetricWarning: Precision is ill-defined and being set to 0.0 in labels with no predicted samples. Use `zero_division` parameter to control this behavior.\n",
            "  _warn_prf(average, modifier, f\"{metric.capitalize()} is\", len(result))\n"
          ]
        },
        {
          "output_type": "stream",
          "name": "stdout",
          "text": [
            "Relatório de Classificação:\n",
            "               precision    recall  f1-score   support\n",
            "\n",
            "    negativo       1.00      1.00      1.00         1\n",
            "    positivo       1.00      1.00      1.00         1\n",
            "\n",
            "    accuracy                           1.00         2\n",
            "   macro avg       1.00      1.00      1.00         2\n",
            "weighted avg       1.00      1.00      1.00         2\n",
            "\n"
          ]
        }
      ]
    },
    {
      "cell_type": "markdown",
      "source": [],
      "metadata": {
        "id": "pMzjx7GKXeav"
      }
    },
    {
      "cell_type": "code",
      "source": [
        "# Exemplo de uso da função para classificar um novo texto\n",
        "novo_texto = \"Este filme é incrível, recomendo a todos!\"\n",
        "categoria_nb, probabilidades_nb = classificar_texto(novo_texto, vectorizer, naive_bayes_model)\n",
        "categoria_lr, probabilidades_lr = classificar_texto(novo_texto, vectorizer, best_logistic_regression_model)\n",
        "categoria_svm, probabilidades_svm = classificar_texto (novo_texto, vectorizer, best_svm_model)\n",
        "\n",
        "print(\"\\nNovo texto:\", novo_texto)\n",
        "print(\"\\nResultados da classificação:\")\n",
        "print(\"\\nNaive Bayes Multinomial:\")\n",
        "print(\"Categoria prevista:\", categoria_nb)\n",
        "print(\"Probabilidades por categoria:\", probabilidades_nb)\n",
        "print(\"\\nRegressão Logística:\")\n",
        "print(\"Categoria prevista:\", categoria_lr)\n",
        "print(\"Probabilidades por categoria:\", probabilidades_lr)\n",
        "print(\"\\nSVM\")\n",
        "print(\"Categoria prevista:\", categoria_svm)\n",
        "print(\"Probabilidades por categoria:\", probabilidades_svm)"
      ],
      "metadata": {
        "colab": {
          "base_uri": "https://localhost:8080/"
        },
        "id": "DDFil5qNW7Wi",
        "outputId": "cc072638-f965-43cf-a35c-86b0f57ae3c5"
      },
      "execution_count": 56,
      "outputs": [
        {
          "output_type": "stream",
          "name": "stdout",
          "text": [
            "\n",
            "Novo texto: Este filme é incrível, recomendo a todos!\n",
            "\n",
            "Resultados da classificação:\n",
            "\n",
            "Naive Bayes Multinomial:\n",
            "Categoria prevista: positivo\n",
            "Probabilidades por categoria: {np.str_('negativo'): np.float64(0.29256806327043555), np.str_('positivo'): np.float64(0.7074319367295648)}\n",
            "\n",
            "Regressão Logística:\n",
            "Categoria prevista: positivo\n",
            "Probabilidades por categoria: {'negativo': np.float64(0.4868942836287754), 'positivo': np.float64(0.5131057163712246)}\n",
            "\n",
            "SVM\n",
            "Categoria prevista: positivo\n",
            "Probabilidades por categoria: {'negativo': np.float64(0.8817303978937229), 'positivo': np.float64(0.11826960210627731)}\n"
          ]
        }
      ]
    },
    {
      "cell_type": "markdown",
      "source": [
        "## Etapa 5 - Avaliação do modelo"
      ],
      "metadata": {
        "id": "dX_9Px5SYrwA"
      }
    },
    {
      "cell_type": "code",
      "source": [
        "# Etapa 5: Avaliação do modelo\n",
        "# Passo 1: Fazer previsões no conjunto de teste usando os modelos treinados.\n",
        "# Passo 2: Calcular as métricas de desempenho apropriadas (precisão, revocação, F1-score, acurácia).\n",
        "# Passo 3: Exibir e analisar os resultados.\n",
        "\n",
        "print(\"\\nEtapa 4: Avaliação do Modelo\")\n",
        "print(\"\\nResultados da Avaliação:\")\n",
        "\n",
        "# Avaliação do modelo Naive Bayes\n",
        "Y_pred_nb = naive_bayes_model.predict(X_test_tfidf)\n",
        "acuracia_nb = accuracy_score(Y_test, Y_pred_nb)\n",
        "print(\"\\nNaive Bayes Multinomial:\")\n",
        "print(\"Acurácia:\", acuracia_nb)\n",
        "print(\"Relatório de Classificação:\\n\", classification_report(Y_test, Y_pred_nb, zero_division=0))\n",
        "\n",
        "# Avaliação do modelo de Regressão Logística\n",
        "Y_pred_lr = best_logistic_regression_model.predict(X_test_tfidf)\n",
        "acuracia_lr = accuracy_score(Y_test, Y_pred_lr)\n",
        "print(\"\\nRegressão Logística:\")\n",
        "print(\"Acurácia:\", acuracia_lr)\n",
        "print(\"Relatório de Classificação:\\n\", classification_report(Y_test, Y_pred_lr, zero_division=0))\n",
        "\n",
        "# Avaliação do modelo SVM\n",
        "Y_pred_svm = best_svm_model.predict(X_test_tfidf)\n",
        "acuracia_svm = accuracy_score(Y_test, Y_pred_svm)\n",
        "print(\"\\nSVM:\")\n",
        "print(\"Acurácia:\", acuracia_svm)\n",
        "print(\"Relatório de Classificação:\\n\", classification_report(Y_test, Y_pred_svm, zero_division=0))\n",
        "\n",
        "# Passo 4: Comparar o desempenho dos diferentes modelos.\n",
        "print(\"\\nComparação de Modelos:\")\n",
        "print(f\"Acurácia Naive Bayes: {acuracia_nb:.4f}\")\n",
        "print(f\"Acurácia Regressão Logística: {acuracia_lr:.4f}\")\n",
        "print(f\"Acurácia SVM: {acuracia_svm:.4f}\")\n",
        "\n",
        "modelos = ['Naive Bayes', 'Regressão Logística', 'SVM']\n",
        "acuracias = [acuracia_nb, acuracia_lr, acuracia_svm]\n",
        "\n",
        "plt.figure(figsize=(8, 6))\n",
        "plt.bar(modelos, acuracias, color=['pink', 'navy', 'purple'])\n",
        "plt.xlabel('Modelo')\n",
        "plt.ylabel('Acurácia')\n",
        "plt.title('Comparação de Acurácia dos Modelos')\n",
        "plt.ylim(0, 1)  # Define o limite do eixo y para 0 a 1\n",
        "plt.show()"
      ],
      "metadata": {
        "colab": {
          "base_uri": "https://localhost:8080/",
          "height": 1000
        },
        "id": "RrtGVg7_W-SI",
        "outputId": "5d4a9779-7149-48f3-e208-1e8aa906eb9a"
      },
      "execution_count": 57,
      "outputs": [
        {
          "output_type": "stream",
          "name": "stdout",
          "text": [
            "\n",
            "Etapa 4: Avaliação do Modelo\n",
            "\n",
            "Resultados da Avaliação:\n",
            "\n",
            "Naive Bayes Multinomial:\n",
            "Acurácia: 0.5\n",
            "Relatório de Classificação:\n",
            "               precision    recall  f1-score   support\n",
            "\n",
            "    negativo       0.50      1.00      0.67         1\n",
            "    positivo       0.00      0.00      0.00         1\n",
            "\n",
            "    accuracy                           0.50         2\n",
            "   macro avg       0.25      0.50      0.33         2\n",
            "weighted avg       0.25      0.50      0.33         2\n",
            "\n",
            "\n",
            "Regressão Logística:\n",
            "Acurácia: 0.5\n",
            "Relatório de Classificação:\n",
            "               precision    recall  f1-score   support\n",
            "\n",
            "    negativo       0.50      1.00      0.67         1\n",
            "    positivo       0.00      0.00      0.00         1\n",
            "\n",
            "    accuracy                           0.50         2\n",
            "   macro avg       0.25      0.50      0.33         2\n",
            "weighted avg       0.25      0.50      0.33         2\n",
            "\n",
            "\n",
            "SVM:\n",
            "Acurácia: 1.0\n",
            "Relatório de Classificação:\n",
            "               precision    recall  f1-score   support\n",
            "\n",
            "    negativo       1.00      1.00      1.00         1\n",
            "    positivo       1.00      1.00      1.00         1\n",
            "\n",
            "    accuracy                           1.00         2\n",
            "   macro avg       1.00      1.00      1.00         2\n",
            "weighted avg       1.00      1.00      1.00         2\n",
            "\n",
            "\n",
            "Comparação de Modelos:\n",
            "Acurácia Naive Bayes: 0.5000\n",
            "Acurácia Regressão Logística: 0.5000\n",
            "Acurácia SVM: 1.0000\n"
          ]
        },
        {
          "output_type": "display_data",
          "data": {
            "text/plain": [
              "<Figure size 800x600 with 1 Axes>"
            ],
            "image/png": "[encoded data removed]"
          },
          "metadata": {}
        }
      ]
    },
    {
      "cell_type": "markdown",
      "source": [
        "## Etapa 6 - Classificação de um novo texto"
      ],
      "metadata": {
        "id": "dRdrq5WMY45i"
      }
    },
    {
      "cell_type": "code",
      "source": [
        "print(\"\\nEtapa 5: Classificação de um Novo Texto\")\n",
        "\n",
        "def classificar_novo_texto(texto, vectorizer, modelo):\n",
        "    \"\"\"\n",
        "    Classifica um novo texto de entrada usando um modelo treinado.\n",
        "\n",
        "    Args:\n",
        "        texto (str): O texto a ser classificado.\n",
        "        vectorizer: O vetorizador TF-IDF usado para extrair as características do texto.\n",
        "        modelo: O modelo de aprendizado de máquina treinado.\n",
        "\n",
        "    Returns:\n",
        "        str: A categoria prevista para o texto.\n",
        "        dict: As probabilidades de o texto pertencer a cada categoria.\n",
        "    \"\"\"\n",
        "    # Passo 1: Pré-processar o novo texto de entrada usando as mesmas etapas da Etapa 1.\n",
        "    texto_processado = preprocessar_texto(texto)\n",
        "\n",
        "    # Passo 2: Extrair as características do novo texto usando o mesmo método da Etapa 2.\n",
        "    texto_tfidf = vectorizer.transform([texto_processado])\n",
        "\n",
        "    # Passo 3: Usar o modelo treinado para prever a categoria do novo texto.\n",
        "    categoria_prestiva = modelo.predict(texto_tfidf)[0]\n",
        "\n",
        "    # Passo 4: Exibir a categoria prevista e (opcionalmente) as probabilidades de cada categoria.\n",
        "    try:\n",
        "        probabilidades = modelo.predict_proba(texto_tfidf)[0]\n",
        "        categorias = modelo.classes_\n",
        "        probabilidades_por_categoria = dict(zip(categorias, probabilidades))\n",
        "        return categoria_prestiva, probabilidades_por_categoria\n",
        "    except AttributeError:\n",
        "        return categoria_prestiva, {}  # Modelos como SVM podem não ter predict_proba\n",
        "\n",
        "# Exemplo de uso da função para classificar um novo texto\n",
        "novo_texto = \"Este filme é incrível, recomendo a todos!\"\n",
        "\n",
        "print(\"\\nNovo Texto:\", novo_texto)\n",
        "print(\"\\nResultados da Classificação:\")\n",
        "\n",
        "# Classificar usando Naive Bayes\n",
        "categoria_nb, probabilidades_nb = classificar_novo_texto(novo_texto, vectorizer, naive_bayes_model)\n",
        "print(\"\\nNaive Bayes:\")\n",
        "print(\" Categoria Prevista:\", categoria_nb)\n",
        "if probabilidades_nb:\n",
        "    print(\" Probabilidades:\", probabilidades_nb)\n",
        "\n",
        "# Classificar usando Regressão Logística\n",
        "categoria_lr, probabilidades_lr = classificar_novo_texto(novo_texto, vectorizer, best_logistic_regression_model)\n",
        "print(\"\\nRegressão Logística:\")\n",
        "print(\" Categoria Prevista:\", categoria_lr)\n",
        "if probabilidades_lr:\n",
        "    print(\" Probabilidades:\", probabilidades_lr)\n",
        "\n",
        "# Classificar usando SVM\n",
        "categoria_svm, probabilidades_svm = classificar_novo_texto(novo_texto, vectorizer, best_svm_model)\n",
        "print(\"\\nSVM:\")\n",
        "print(\" Categoria Prevista:\", categoria_svm)\n",
        "if probabilidades_svm:\n",
        "    print(\" Probabilidades:\", probabilidades_svm)"
      ],
      "metadata": {
        "colab": {
          "base_uri": "https://localhost:8080/"
        },
        "id": "IE-D_-cqXCmN",
        "outputId": "f8a767f4-77f5-46a1-a675-da6b647c9eec"
      },
      "execution_count": 58,
      "outputs": [
        {
          "output_type": "stream",
          "name": "stdout",
          "text": [
            "\n",
            "Etapa 5: Classificação de um Novo Texto\n",
            "\n",
            "Novo Texto: Este filme é incrível, recomendo a todos!\n",
            "\n",
            "Resultados da Classificação:\n",
            "\n",
            "Naive Bayes:\n",
            " Categoria Prevista: positivo\n",
            " Probabilidades: {np.str_('negativo'): np.float64(0.29256806327043555), np.str_('positivo'): np.float64(0.7074319367295648)}\n",
            "\n",
            "Regressão Logística:\n",
            " Categoria Prevista: positivo\n",
            " Probabilidades: {'negativo': np.float64(0.4868942836287754), 'positivo': np.float64(0.5131057163712246)}\n",
            "\n",
            "SVM:\n",
            " Categoria Prevista: positivo\n",
            " Probabilidades: {'negativo': np.float64(0.8817303978937229), 'positivo': np.float64(0.11826960210627731)}\n"
          ]
        }
      ]
    }
  ]
}